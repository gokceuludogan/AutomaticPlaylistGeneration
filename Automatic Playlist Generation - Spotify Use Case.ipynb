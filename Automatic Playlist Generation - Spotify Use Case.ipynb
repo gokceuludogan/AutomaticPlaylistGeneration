{
 "cells": [
  {
   "cell_type": "markdown",
   "metadata": {},
   "source": [
    "# Automatic Playlist Generation - Spotify Use Case"
   ]
  },
  {
   "cell_type": "code",
   "execution_count": 107,
   "metadata": {},
   "outputs": [],
   "source": [
    "import spotipy\n",
    "import requests\n",
    "import spotipy.util as util\n",
    "import pprint, json\n",
    "import pandas as pd\n",
    "import numpy as np"
   ]
  },
  {
   "cell_type": "markdown",
   "metadata": {},
   "source": [
    "In this notebook, we're gonna generate playlist and exports it to Spotify. In the first part, playlists are generated from MSD tracks whereas in the second part, playlists are created using users' saved tracks. "
   ]
  },
  {
   "cell_type": "markdown",
   "metadata": {},
   "source": [
    "Let's define necessary variables for authentication and feature list taken from Spotify."
   ]
  },
  {
   "cell_type": "code",
   "execution_count": 108,
   "metadata": {},
   "outputs": [
    {
     "name": "stdout",
     "output_type": "stream",
     "text": [
      "Size of feature list:  12\n"
     ]
    }
   ],
   "source": [
    "CLIENT_ID = '25e3cc7f42ad41d3b0a394e0658ec33a'\n",
    "CLIENT_SECRET = '5ab7fd87ffb8417d8ce83cbfde8283ad'\n",
    "scope = 'user-library-read playlist-modify user-read-private'\n",
    "username = '11131118133'\n",
    "PLAYLIST_NO = 0\n",
    "feature_list = [\"danceability\", \"energy\", \"key\", \"loudness\", \"mode\", \"speechiness\", \"acousticness\", \"instrumentalness\", \"liveness\", \"valence\", \"tempo\", \"id\"]\n",
    "print(\"Size of feature list: \", str(len(feature_list)))"
   ]
  },
  {
   "cell_type": "markdown",
   "metadata": {},
   "source": [
    "Let's implement functions necessary for getting data from spotify."
   ]
  },
  {
   "cell_type": "code",
   "execution_count": 109,
   "metadata": {},
   "outputs": [],
   "source": [
    "def get_token(username, scope, client_id, client_secret):\n",
    "    return util.prompt_for_user_token(username, scope, client_id, client_secret, redirect_uri='http://localhost/')\n",
    "\n",
    "def read_user_saved_tracks(sp):\n",
    "    limit_of_track = 50\n",
    "    offset_of_track = 0\n",
    "    get_track = True\n",
    "    audio_features = np.array(feature_list)\n",
    "    while get_track:\n",
    "        results = sp.current_user_saved_tracks(limit=limit_of_track, offset=offset_of_track)\n",
    "        len_of_tracks = 0\n",
    "        for item in results['items']:\n",
    "            len_of_tracks += 1\n",
    "            track = item['track']\n",
    "            #print(track['id'] + \" - \" + track['name'])\n",
    "            features_in_json = get_audio_features(sp, [track['id']])\n",
    "            track_feature = [value for key, value in features_in_json[0].items()  if key in feature_list]\n",
    "            audio_features = np.vstack([audio_features, track_feature])\n",
    "        offset_of_track += len_of_tracks\n",
    "        if len_of_tracks != 50:\n",
    "            get_track = False\n",
    "    print(\"Total saved tracks \" + str(offset_of_track))\n",
    "    return audio_features\n",
    "\n",
    "def get_audio_features(sp, track_id_list):\n",
    "    return sp.audio_features(tracks=track_id_list)\n",
    "\n",
    "def create_playlist_for_user(sp, username, playlist_name):\n",
    "    return sp.user_playlist_create(username, playlist_name)[\"id\"]\n",
    "\n",
    "def add_tracks_to_playlist(sp, track_id_list, playlist_id):\n",
    "    return sp.user_playlist_add_tracks(username, playlist_id, track_ids)\n",
    "\n",
    "token = get_token(username, scope, CLIENT_ID, CLIENT_SECRET)\n",
    "sp = spotipy.Spotify(auth=token)"
   ]
  },
  {
   "cell_type": "markdown",
   "metadata": {},
   "source": [
    "Here we're receiving users' saved tracks"
   ]
  },
  {
   "cell_type": "code",
   "execution_count": 110,
   "metadata": {},
   "outputs": [
    {
     "name": "stdout",
     "output_type": "stream",
     "text": [
      "Total saved tracks 267\n"
     ]
    },
    {
     "data": {
      "text/plain": [
       "array([['danceability', 'energy', 'key', ..., 'valence', 'tempo', 'id'],\n",
       "       ['0.448', '0.331', '5', ..., '0.549', '120.373',\n",
       "        '05CS4vtvc5hbbofZyo3xhB'],\n",
       "       ['0.385', '0.485', '7', ..., '0.228', '119.836',\n",
       "        '6a9BbEiz6gO2EqLnrSAKwA'],\n",
       "       ..., \n",
       "       ['0.663', '0.494', '2', ..., '0.531', '119.872',\n",
       "        '6a0BcOBXGJ9gr5MZ189oRG'],\n",
       "       ['0.582', '0.186', '7', ..., '0.612', '103.095',\n",
       "        '6sOTwzUE73fU6OFNRtYDi3'],\n",
       "       ['0.557', '0.266', '2', ..., '0.373', '144.811',\n",
       "        '795qPRGb0VFJFVrt28MkQo']],\n",
       "      dtype='<U32')"
      ]
     },
     "execution_count": 110,
     "metadata": {},
     "output_type": "execute_result"
    }
   ],
   "source": [
    "user_saved_tracks = read_user_saved_tracks(sp)\n",
    "user_saved_tracks"
   ]
  },
  {
   "cell_type": "markdown",
   "metadata": {},
   "source": [
    "## Playlist Generation using MSD tracks"
   ]
  },
  {
   "cell_type": "markdown",
   "metadata": {},
   "source": [
    "Below, a KMeans model is trained using MSD data"
   ]
  },
  {
   "cell_type": "code",
   "execution_count": 19,
   "metadata": {},
   "outputs": [
    {
     "name": "stdout",
     "output_type": "stream",
     "text": [
      "inertia: 12006.5968641\n",
      "Silhouette Coefficient: 0.125\n"
     ]
    }
   ],
   "source": [
    "import pandas as pd\n",
    "import numpy as np\n",
    "from sklearn.cluster import KMeans\n",
    "from sklearn.cluster import AffinityPropagation\n",
    "from sklearn import metrics\n",
    "from sklearn.model_selection import train_test_split\n",
    "input_data_path = \"features_msd_lda_sp.csv\"\n",
    "NO_OF_CLUSTER = 100\n",
    "dataset = pd.read_csv(input_data_path)\n",
    "dataset.drop([\"Unnamed: 0\"], 1, inplace=True)\n",
    "string_features = [\"track_id\", \"id\", \"artist_name\", \"title\"]\n",
    "datacopy = dataset.copy()\n",
    "datacopy.drop(string_features, 1, inplace = True)\n",
    "genres = dataset.genre.unique()\n",
    "for index, genre in zip(range(0, len(genres)),genres):\n",
    "    datacopy.loc[datacopy['genre'] == genre, 'genre'] = index \n",
    "for column in datacopy.columns:\n",
    "    max_of_column = datacopy[column].max()\n",
    "    datacopy[column] = datacopy[column].apply(lambda x: x / max_of_column)\n",
    "def create_input_for_clustering(dataset):\n",
    "    genres = dataset.genre.unique()\n",
    "    for index, genre in zip(range(0, len(genres)),genres):\n",
    "        dataset.loc[dataset['genre'] == genre, 'genre'] = index \n",
    "        #dataset.drop(string_features, 1, inplace = True)\n",
    "    return dataset.as_matrix()\n",
    "X = create_input_for_clustering(datacopy.copy())\n",
    "kmeans = KMeans(n_clusters=319)\n",
    "kmeans = kmeans.fit(X)\n",
    "# Getting the cluster labels\n",
    "labels = kmeans.predict(X)\n",
    "# Centroid values\n",
    "centroids = kmeans.cluster_centers_\n",
    "inertia = kmeans.inertia_\n",
    "print(\"inertia:\", inertia)\n",
    "print(\"Silhouette Coefficient: %0.3f\"\n",
    "      % metrics.silhouette_score(X, labels, metric='sqeuclidean'))"
   ]
  },
  {
   "cell_type": "markdown",
   "metadata": {},
   "source": [
    "Now, we're normalizing features of users' saved tracks. "
   ]
  },
  {
   "cell_type": "code",
   "execution_count": 81,
   "metadata": {},
   "outputs": [],
   "source": [
    "audio_features = user_saved_tracks\n",
    "user_saved_tracks_df = pd.DataFrame(data = audio_features[1:, 0:], columns=audio_features[0,0:])\n",
    "audio_features = audio_features[:, :-1]\n",
    "audio_feature_df = pd.DataFrame(data = audio_features[1:, 0:], columns=audio_features[0,0:])\n",
    "columns = list(dataset.columns.values)[-12:][:-1]\n",
    "for column in columns:\n",
    "    max_of_column = dataset[str(column)].max()\n",
    "    if column.endswith('_y'):\n",
    "        column = column[:-2]\n",
    "    audio_feature_df[column] = pd.to_numeric(audio_feature_df[column], errors='coerce') / max_of_column\n",
    "audio_features = audio_feature_df.as_matrix()"
   ]
  },
  {
   "cell_type": "code",
   "execution_count": 111,
   "metadata": {},
   "outputs": [
    {
     "data": {
      "text/plain": [
       "<bound method NDFrame.head of     danceability energy key loudness mode speechiness acousticness  \\\n",
       "0          0.448  0.331   5   -9.003    1      0.0301         0.71   \n",
       "1          0.385  0.485   7   -6.036    0      0.0522        0.423   \n",
       "2           0.44  0.834  11   -7.391    0      0.0772        0.702   \n",
       "3           0.28  0.368   2  -10.756    0      0.0354        0.761   \n",
       "4          0.354  0.474   2   -6.295    1      0.0267         0.75   \n",
       "5          0.285  0.491  10   -8.525    0      0.0331        0.839   \n",
       "6          0.353  0.588   7   -7.805    0      0.0365        0.748   \n",
       "7          0.745  0.466   4    -7.62    0      0.0864      0.00666   \n",
       "8           0.42  0.929   7   -3.899    0       0.121     0.000353   \n",
       "9            0.6  0.796   2   -4.481    1      0.0275     0.000109   \n",
       "10         0.586  0.656   1   -5.694    0      0.0252       0.0969   \n",
       "11         0.378  0.896   2   -4.066    1      0.0407     0.000452   \n",
       "12          0.62  0.243   2  -13.545    1      0.0362        0.941   \n",
       "13         0.323  0.382   0   -8.349    1      0.0391          0.8   \n",
       "14         0.573  0.255   0  -14.362    0      0.0402        0.957   \n",
       "15         0.608  0.587   4   -7.286    0      0.0333        0.778   \n",
       "16         0.528  0.257   4   -8.936    1      0.0431        0.768   \n",
       "17         0.825    0.4   0  -12.626    1      0.0456         0.49   \n",
       "18         0.359  0.407  10   -9.338    1      0.0363        0.586   \n",
       "19         0.304  0.412   5   -7.895    0      0.0325        0.766   \n",
       "20         0.697  0.286   2  -14.804    1      0.0377        0.587   \n",
       "21         0.688  0.731   5   -4.541    1      0.0513         0.38   \n",
       "22         0.386  0.445  11  -11.713    0      0.0377        0.606   \n",
       "23         0.168  0.427   2   -8.942    0      0.0306        0.611   \n",
       "24         0.441  0.684   0   -5.813    0      0.0324       0.0161   \n",
       "25         0.431  0.834  10   -5.686    0      0.0527     0.000329   \n",
       "26         0.474  0.751   8   -7.229    0      0.0412      0.00439   \n",
       "27         0.298  0.818   7   -6.267    1        0.11        0.189   \n",
       "28         0.737  0.309   3  -10.902    0       0.135        0.833   \n",
       "29         0.477  0.796   7     -4.9    0      0.0644        0.524   \n",
       "..           ...    ...  ..      ...  ...         ...          ...   \n",
       "237        0.428  0.208   9  -10.202    0      0.0285        0.846   \n",
       "238        0.492  0.587   7   -8.809    0      0.0356        0.542   \n",
       "239        0.384  0.267   5  -10.422    0      0.0668        0.931   \n",
       "240        0.726  0.691   5   -5.985    0      0.0389        0.304   \n",
       "241        0.563  0.494   2   -6.006    1       0.171        0.824   \n",
       "242        0.354  0.418   9  -12.698    0      0.0298        0.501   \n",
       "243        0.486   0.71   4   -7.715    0      0.0443       0.0813   \n",
       "244        0.689  0.869   7   -7.793    0      0.0339        0.208   \n",
       "245        0.665  0.734   2   -5.109    1      0.0255        0.412   \n",
       "246        0.769  0.932   7    -3.22    0      0.0811        0.537   \n",
       "247        0.562  0.535   9   -7.775    1       0.038        0.351   \n",
       "248        0.639  0.617   7   -5.777    0      0.0285        0.368   \n",
       "249        0.262  0.328   4  -12.897    1      0.0376        0.753   \n",
       "250        0.654  0.225   4  -16.401    0      0.0282        0.906   \n",
       "251        0.362  0.418   4   -7.988    0      0.0456        0.813   \n",
       "252        0.672  0.838   0   -8.037    1      0.0921        0.633   \n",
       "253        0.868  0.936   2  -12.328    0      0.0662       0.0605   \n",
       "254        0.712  0.866   5   -8.261    0      0.0374        0.511   \n",
       "255        0.638  0.403   4  -10.359    1      0.0474        0.725   \n",
       "256        0.676  0.531   5  -10.347    1      0.0789        0.157   \n",
       "257        0.486  0.423   0  -10.407    0      0.0278        0.477   \n",
       "258         0.61  0.788   9   -8.704    0      0.0403        0.152   \n",
       "259         0.67  0.643   7   -8.696    1      0.0479       0.0396   \n",
       "260        0.616  0.503  11   -9.208    0      0.0256        0.241   \n",
       "261        0.536  0.649   0   -6.666    1      0.0442        0.776   \n",
       "262        0.583   0.52  11   -7.835    0      0.0454        0.744   \n",
       "263        0.753  0.561   5   -6.856    0      0.0641         0.31   \n",
       "264        0.663  0.494   2  -14.809    1       0.244        0.618   \n",
       "265        0.582  0.186   7  -14.387    1      0.0294        0.698   \n",
       "266        0.557  0.266   2  -11.229    0      0.0478         0.85   \n",
       "\n",
       "    instrumentalness liveness valence    tempo                      id  \n",
       "0                  0    0.129   0.549  120.373  05CS4vtvc5hbbofZyo3xhB  \n",
       "1           0.000104    0.103   0.228  119.836  6a9BbEiz6gO2EqLnrSAKwA  \n",
       "2            0.00229    0.845   0.637   97.866  4RvGb487EhZvP78lrjkDAJ  \n",
       "3             0.0003    0.778   0.277   79.654  3WFB5CrA5pVu4IDyWM8jHN  \n",
       "4           0.000198     0.68   0.482   93.387  5nv8Dag3AwVyIhbsrkXzNW  \n",
       "5              0.229    0.921   0.183   60.271  6KKufUK3J3YV4m39RRSX4X  \n",
       "6           0.000657     0.77   0.364  109.712  2xFz8df57bs3d6PeevR7w7  \n",
       "7               0.35    0.272   0.303  123.889  3m6KkYKdnbffMpGd9Pm9FP  \n",
       "8           0.000747    0.122     0.3  127.204  5V3mdRI2yQxbSsJGDPc5lD  \n",
       "9            5.2e-05    0.484    0.75  105.991  1fr92Vupmcs2vgLMFVQ7rd  \n",
       "10          0.000379    0.124   0.333  131.912  6vbgHYlDD0fwSU54D2bD6o  \n",
       "11                 0    0.194   0.469  174.302  5qqabIl2vWzo9ApSC317sa  \n",
       "12            0.0342    0.111   0.331  103.958  7f9Zt8RE1bP8JhLpS8tkMM  \n",
       "13                 0     0.17   0.361  162.542  6u16rWdW0IvYXiH0Z2zGLc  \n",
       "14          8.25e-05    0.105    0.21   96.226  1N76UccpbTgfKoqgUkKwq3  \n",
       "15                 0    0.267   0.798  133.687  6BlHr5rVvdOtmCtzdI5Jpx  \n",
       "16           1.6e-06    0.103   0.271  151.757  0ymefFAE4ESZzg5bVlH4o4  \n",
       "17                 0   0.0981   0.838    106.0  1rY4UYyZ3PcuYgWIddkcnL  \n",
       "18          1.96e-06    0.156    0.35   179.55  3guIdcv4do5sM9Y4PLGppK  \n",
       "19                 0    0.319   0.412  180.111  4RFKg7maJvr3OHWYoex9kO  \n",
       "20          5.95e-06   0.0871   0.428    80.14  39Shd0A8AL4jZ7bmuvEWAu  \n",
       "21                 0    0.283   0.735   93.016  1XYNzI238LSNLpVjC6M69F  \n",
       "22          0.000243    0.702   0.188   77.881  5YwVDOWMKH7T0KtvpPSESQ  \n",
       "23          0.000123    0.076   0.167   72.489  0UU34M7WNqtu95c3nZZtPU  \n",
       "24          1.97e-06    0.604   0.164  136.092  0XI4ay60DBZup6D2kYuqHy  \n",
       "25          0.000114    0.137   0.194  176.219  5sz5uDZjxZAmlINFkFUobZ  \n",
       "26          1.48e-06    0.154   0.636  159.927  4NPeA5XXs6tjHrtanLYJxf  \n",
       "27                 0    0.407   0.662  198.722  74lCTfwagoLphYSBdys81W  \n",
       "28                 0   0.0821   0.863  116.876  0LBua0mRC37pQzTVVUk3lB  \n",
       "29          0.000425    0.105   0.348  158.167  0CK3hcpHOBzl8nbxQ85NFr  \n",
       "..               ...      ...     ...      ...                     ...  \n",
       "237         3.43e-05   0.0976   0.278   89.889  1SE2vMX3pEcDlw1tAUoY4G  \n",
       "238                0    0.263   0.665   122.74  6Z7zRYgeSWtRxi0xmqMjDK  \n",
       "239           0.0504    0.123   0.339   81.467  7j5W7ThfZ4rIouXDDNS0m5  \n",
       "240         3.45e-06   0.0971   0.923    91.98  0BKufLWyERKNL4MZOB1rC0  \n",
       "241                0    0.456   0.899  115.861  3sWXNkhqBjwjJYqSGS6S2M  \n",
       "242            0.478    0.135   0.161   79.978  2y9YwDQ9ehBkV0wLB6vm5o  \n",
       "243         0.000128    0.103   0.323   79.932  4l0XGK3I5NyZH7h9xltqpG  \n",
       "244            0.241    0.213   0.962  100.048  03Qa4yCUzzXK5RtCXEQEw7  \n",
       "245                0    0.147   0.678  105.023  5BLdUjz1msOKaYUbvZ3FQo  \n",
       "246           0.0125    0.249   0.824  114.046  2yuRGgNmNw3KL73YJWU0Au  \n",
       "247         0.000288    0.206   0.582  138.645  5vdRps0xsJPOuBXAS3fC5w  \n",
       "248         8.19e-06   0.0865   0.675  156.045  1yMadjsbzOne0wdYPxDZyX  \n",
       "249                0    0.227   0.533  207.074  3cVWNLd0uEHkc2tnBoE3Ay  \n",
       "250            0.184     0.11    0.27   87.979  1l68xl90ao9ficFgP2FM4u  \n",
       "251                0   0.0984   0.308  108.093  78KQItJWTBhD5Gm4Wrvq3Z  \n",
       "252          0.00423    0.327   0.902   96.031  6Vadb57fK7DRP3nVzch4Oa  \n",
       "253          0.00407      0.2    0.79  107.069  1wUubBIfEt22iX77IvpYvu  \n",
       "254           0.0408     0.11   0.969  137.913  0K4qgS2SOYhANcdLL8pybq  \n",
       "255                0    0.366   0.735  144.018  1hI2J4glbJ4C8rtmBUpdJs  \n",
       "256         2.53e-06    0.311    0.53  129.834  2Bl3WdEKC4xD3lszzDjJHE  \n",
       "257           0.0073    0.151   0.236   97.957  6HYZZAvAUzDONf0D1xqGfj  \n",
       "258            0.225    0.105   0.766  140.027  6kR6JFF4BHocK65hbII5Ew  \n",
       "259            0.262    0.368    0.57   90.052  7zoBAESQSuNw8froX20kL3  \n",
       "260           0.0732    0.124   0.642  107.979  3DpXWapy0LD3ZnLpy7gPgI  \n",
       "261         3.29e-06    0.729   0.531   57.899  7GbXDZJPJtoWzM99KbQk0Z  \n",
       "262                0    0.742   0.304  130.755  17X582hYRP0yevLNO4jzua  \n",
       "263         1.71e-05    0.135   0.537  132.055  5fE8H2yzKJBSN00iLt8GhR  \n",
       "264                0    0.121   0.531  119.872  6a0BcOBXGJ9gr5MZ189oRG  \n",
       "265                0    0.107   0.612  103.095  6sOTwzUE73fU6OFNRtYDi3  \n",
       "266                0    0.114   0.373  144.811  795qPRGb0VFJFVrt28MkQo  \n",
       "\n",
       "[267 rows x 12 columns]>"
      ]
     },
     "execution_count": 111,
     "metadata": {},
     "output_type": "execute_result"
    }
   ],
   "source": [
    "user_saved_tracks_df.head"
   ]
  },
  {
   "cell_type": "markdown",
   "metadata": {},
   "source": [
    "Below, we're generating playlist from MSD tracks based on a seed song from users' saved tracks."
   ]
  },
  {
   "cell_type": "code",
   "execution_count": 92,
   "metadata": {},
   "outputs": [
    {
     "name": "stdout",
     "output_type": "stream",
     "text": [
      "05CS4vtvc5hbbofZyo3xhB\n",
      "======\n",
      "3195    Midnight Moses by The Sensational Alex Harvey ...\n",
      "1332               Straight Shootin' Woman by Steppenwolf\n",
      "4067                       Excited by The Doobie Brothers\n",
      "5280                       Ooh! My Soul by Little Richard\n",
      "2265                              Alimony by Diamond Head\n",
      "5334                             Stone In Love by Journey\n",
      "954     Hold Back The Night by Graham Parker & The Rumour\n",
      "5327               Lovin'_ Touchin'_ Squeezin' by Journey\n",
      "5335                           Keep On Runnin' by Journey\n",
      "2214               (Ain't That) Good News by The Supremes\n",
      "dtype: object\n"
     ]
    }
   ],
   "source": [
    "import random \n",
    "NUMBER_OF_PLAYLIST_GENERATED = 1\n",
    "#random_track_indices = random.sample(range(audio_features.shape[0]), NUMBER_OF_PLAYLIST_GENERATED)\n",
    "random_track_indices = [0]\n",
    "test_input = audio_features.copy()[random_track_indices]\n",
    "nones = np.zeros((test_input.shape[0], X.shape[1]-len(feature_list)+1))\n",
    "test_input = np.append(nones, test_input, axis=1)\n",
    "\n",
    "cluster_numbers = kmeans.predict(test_input)\n",
    "for i, (cluster_number, random_track_ind) in enumerate(zip(cluster_numbers, random_track_indices)):\n",
    "    index = kmeans.labels_ == cluster_number\n",
    "    indices = [ind for ind, value in zip(range(0, len(labels)), index) if value == True]\n",
    "    d = ([np.linalg.norm(X[ind]-test_input[i]) for ind in indices])\n",
    "    #print(dataset.loc[index][\"title\"] + \" by \" + dataset.loc[index][\"artist_name\"])\n",
    "    ind = np.argsort(d)[::-1][:10]\n",
    "    indices = [indices[x] for x in ind]\n",
    "    print(user_saved_tracks_df.iloc[random_track_ind][\"id\"])\n",
    "    print ('======')\n",
    "    print(dataset.iloc[indices][\"title\"] + \" by \" + dataset.iloc[indices][\"artist_name\"])\n",
    "    track_ids = dataset.iloc[indices][\"id\"].values.tolist()\n",
    "    sp.trace = False\n",
    "    playlist_name = \"automatic-generated-playlist-\" + str(PLAYLIST_NO)\n",
    "    PLAYLIST_NO += 1\n",
    "    playlists = sp.user_playlist_create(username, playlist_name)\n",
    "    playlist_id = playlists[\"id\"]\n",
    "    results = sp.user_playlist_add_tracks(username, playlist_id, track_ids)"
   ]
  },
  {
   "cell_type": "markdown",
   "metadata": {},
   "source": [
    "## Playlist Generation using User's saved tracks"
   ]
  },
  {
   "cell_type": "markdown",
   "metadata": {},
   "source": [
    "Below, we're gonna train KMeans model on user's saved tracks and generate playlist from these tracks based on a seed track."
   ]
  },
  {
   "cell_type": "code",
   "execution_count": 103,
   "metadata": {},
   "outputs": [
    {
     "name": "stdout",
     "output_type": "stream",
     "text": [
      "0K4qgS2SOYhANcdLL8pybq\n",
      "======\n",
      "['4TPDtuazf64oXjPBSsKwSi', '5n6RDaGFSN88oRWuGtYAIN', '7DTx1sy8roG04BMg2huGOL', '3m6KkYKdnbffMpGd9Pm9FP', '0o9MIPIGM8svRpfdQGTvUX', '7jasmsYWsjrsXTIDI5RApZ', '73jUiSSBWsnr6jGQFdqfYi', '4l0XGK3I5NyZH7h9xltqpG', '1KbWV3TG4Jv5tEbROpyq98', '3DpXWapy0LD3ZnLpy7gPgI']\n"
     ]
    }
   ],
   "source": [
    "audio_features = user_saved_tracks\n",
    "user_saved_tracks_df = pd.DataFrame(data = audio_features[1:, 0:], columns=audio_features[0,0:])\n",
    "audio_features = audio_features[:, :-1]\n",
    "audio_feature_df = pd.DataFrame(data = audio_features[1:, 0:], columns=audio_features[0,0:])\n",
    "columns = list(dataset.columns.values)[-12:][:-1]\n",
    "for column in columns:\n",
    "    max_of_column = dataset[str(column)].max()\n",
    "    if column.endswith('_y'):\n",
    "        column = column[:-2]\n",
    "    audio_feature_df[column] = pd.to_numeric(audio_feature_df[column], errors='coerce') / max_of_column\n",
    "audio_features = audio_feature_df.as_matrix()\n",
    "kmeans = KMeans(n_clusters=15)\n",
    "kmeans = kmeans.fit(audio_features)\n",
    "# Getting the cluster labels\n",
    "labels = kmeans.predict(audio_features)\n",
    "import random \n",
    "NUMBER_OF_PLAYLIST_GENERATED = 1\n",
    "#random_track_indices = random.sample(range(audio_features.shape[0]), NUMBER_OF_PLAYLIST_GENERATED)\n",
    "random_track_indices = [254]\n",
    "test_input = audio_features.copy()[random_track_indices]\n",
    "\n",
    "cluster_numbers = kmeans.predict(test_input)\n",
    "for i, (cluster_number, random_track_ind) in enumerate(zip(cluster_numbers, random_track_indices)):\n",
    "    index = kmeans.labels_ == cluster_number\n",
    "    indices = [ind for ind, value in zip(range(0, len(labels)), index) if value == True]\n",
    "    d = ([np.linalg.norm(audio_features[ind]-test_input[i]) for ind in indices])\n",
    "    ind = np.argsort(d)[::-1][:10]\n",
    "    indices = [indices[x] for x in ind]\n",
    "    print(user_saved_tracks_df.iloc[random_track_ind][\"id\"])\n",
    "    print ('======')\n",
    "    track_ids = user_saved_tracks_df.iloc[indices][\"id\"].values.tolist()\n",
    "    sp.trace = False\n",
    "    print(track_ids)\n",
    "    playlist_name = \"automatic-generated-playlist-\" + str(PLAYLIST_NO)\n",
    "    PLAYLIST_NO += 1\n",
    "    playlists = sp.user_playlist_create(username, playlist_name)\n",
    "    playlist_id = playlists[\"id\"]\n",
    "    results = sp.user_playlist_add_tracks(username, playlist_id, track_ids)"
   ]
  }
 ],
 "metadata": {
  "kernelspec": {
   "display_name": "Python 3",
   "language": "python",
   "name": "python3"
  },
  "language_info": {
   "codemirror_mode": {
    "name": "ipython",
    "version": 3
   },
   "file_extension": ".py",
   "mimetype": "text/x-python",
   "name": "python",
   "nbconvert_exporter": "python",
   "pygments_lexer": "ipython3",
   "version": "3.6.3"
  }
 },
 "nbformat": 4,
 "nbformat_minor": 2
}
