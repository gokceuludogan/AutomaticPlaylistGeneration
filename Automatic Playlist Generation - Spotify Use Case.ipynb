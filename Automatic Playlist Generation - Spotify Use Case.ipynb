{
 "cells": [
  {
   "cell_type": "markdown",
   "metadata": {},
   "source": [
    "# Automatic Playlist Generation - Spotify Use Case"
   ]
  },
  {
   "cell_type": "code",
   "execution_count": 46,
   "metadata": {},
   "outputs": [],
   "source": [
    "import spotipy\n",
    "import requests\n",
    "import spotipy.util as util\n",
    "import pprint, json\n",
    "import pandas as pd\n",
    "import numpy as np"
   ]
  },
  {
   "cell_type": "markdown",
   "metadata": {},
   "source": [
    "In this notebook, we're gonna generate playlist and exports it to Spotify. In the first part, playlists are generated from MSD tracks whereas in the second part, playlists are created using users' saved tracks. "
   ]
  },
  {
   "cell_type": "markdown",
   "metadata": {},
   "source": [
    "Let's define necessary variables for authentication and feature list taken from Spotify."
   ]
  },
  {
   "cell_type": "code",
   "execution_count": 86,
   "metadata": {},
   "outputs": [
    {
     "name": "stdout",
     "output_type": "stream",
     "text": [
      "Size of feature list:  12\n"
     ]
    }
   ],
   "source": [
    "CLIENT_ID = '25e3cc7f42ad41d3b0a394e0658ec33a'\n",
    "CLIENT_SECRET = '5ab7fd87ffb8417d8ce83cbfde8283ad'\n",
    "scope = 'user-library-read playlist-modify user-read-private'\n",
    "username = 'ezgitek'\n",
    "PLAYLIST_NO = 0\n",
    "feature_list = [\"danceability\", \"energy\", \"key\", \"loudness\", \"mode\", \"speechiness\", \"acousticness\", \"instrumentalness\", \"liveness\", \"valence\", \"tempo\", \"id\"]\n",
    "print(\"Size of feature list: \", str(len(feature_list)))"
   ]
  },
  {
   "cell_type": "markdown",
   "metadata": {},
   "source": [
    "Let's implement functions necessary for getting data from spotify."
   ]
  },
  {
   "cell_type": "code",
   "execution_count": 87,
   "metadata": {},
   "outputs": [
    {
     "name": "stdout",
     "output_type": "stream",
     "text": [
      "\n",
      "\n",
      "            User authentication requires interaction with your\n",
      "            web browser. Once you enter your credentials and\n",
      "            give authorization, you will be redirected to\n",
      "            a url.  Paste that url you were directed to to\n",
      "            complete the authorization.\n",
      "\n",
      "        \n",
      "Opened https://accounts.spotify.com/authorize?client_id=25e3cc7f42ad41d3b0a394e0658ec33a&response_type=code&redirect_uri=http%3A%2F%2Flocalhost%2F&scope=playlist-modify+user-library-read+user-read-private in your browser\n",
      "\n",
      "\n",
      "Enter the URL you were redirected to: http://localhost/?code=AQAFu_t8KgRqBJqH1OO_yZO7FPJO4Fw8deOmSGJ7ogmuGs2dgRx7ZBvrRiROYrO_UrE6VfElOMouhz6o2SbCDU05-Ao0VMOujKPFh0uemNNbenS_uCHn-Lbd5G2G7d-luEsqBwqz3cAMDQVQ-hc54ARVpnY2bypuYPT5t-Go0y1UpmCm626trzM6IUL5y3zM0PhlsIjbZF9AGpwxMOBW4Z9VTlDhpQmVev9mA8fgX7j3FZGfEjLoeqVjt5jUDw\n",
      "\n",
      "\n"
     ]
    }
   ],
   "source": [
    "def get_token(username, scope, client_id, client_secret):\n",
    "    return util.prompt_for_user_token(username, scope, client_id, client_secret, redirect_uri='http://localhost/')\n",
    "\n",
    "def read_user_saved_tracks(sp):\n",
    "    limit_of_track = 50\n",
    "    offset_of_track = 0\n",
    "    get_track = True\n",
    "    audio_features = np.array(feature_list)\n",
    "    while get_track:\n",
    "        results = sp.current_user_saved_tracks(limit=limit_of_track, offset=offset_of_track)\n",
    "        len_of_tracks = 0\n",
    "        for item in results['items']:\n",
    "            len_of_tracks += 1\n",
    "            track = item['track']\n",
    "            #print(track['id'] + \" - \" + track['name'])\n",
    "            features_in_json = get_audio_features(sp, [track['id']])\n",
    "            track_feature = [value for key, value in features_in_json[0].items()  if key in feature_list]\n",
    "            audio_features = np.vstack([audio_features, track_feature])\n",
    "        offset_of_track += len_of_tracks\n",
    "        if len_of_tracks != 50:\n",
    "            get_track = False\n",
    "            print(offset_of_track)\n",
    "    print(\"Total saved tracks \" + str(offset_of_track))\n",
    "    return audio_features\n",
    "\n",
    "def get_audio_features(sp, track_id_list):\n",
    "    return sp.audio_features(tracks=track_id_list)\n",
    "\n",
    "def create_playlist_for_user(sp, username, playlist_name):\n",
    "    return sp.user_playlist_create(username, playlist_name)[\"id\"]\n",
    "\n",
    "def add_tracks_to_playlist(sp, track_id_list, playlist_id):\n",
    "    return sp.user_playlist_add_tracks(username, playlist_id, track_ids)\n",
    "\n",
    "token = get_token(username, scope, CLIENT_ID, CLIENT_SECRET)\n",
    "sp = spotipy.Spotify(auth=token)"
   ]
  },
  {
   "cell_type": "markdown",
   "metadata": {},
   "source": [
    "Here we're receiving users' saved tracks"
   ]
  },
  {
   "cell_type": "code",
   "execution_count": 88,
   "metadata": {},
   "outputs": [
    {
     "ename": "KeyboardInterrupt",
     "evalue": "",
     "output_type": "error",
     "traceback": [
      "\u001b[0;31m---------------------------------------------------------------------------\u001b[0m",
      "\u001b[0;31mKeyboardInterrupt\u001b[0m                         Traceback (most recent call last)",
      "\u001b[0;32m<ipython-input-88-d779b53f96b6>\u001b[0m in \u001b[0;36m<module>\u001b[0;34m()\u001b[0m\n\u001b[0;32m----> 1\u001b[0;31m \u001b[0muser_saved_tracks\u001b[0m \u001b[0;34m=\u001b[0m \u001b[0mread_user_saved_tracks\u001b[0m\u001b[0;34m(\u001b[0m\u001b[0msp\u001b[0m\u001b[0;34m)\u001b[0m\u001b[0;34m\u001b[0m\u001b[0m\n\u001b[0m\u001b[1;32m      2\u001b[0m \u001b[0muser_saved_tracks\u001b[0m\u001b[0;34m\u001b[0m\u001b[0m\n",
      "\u001b[0;32m<ipython-input-87-148be35d468a>\u001b[0m in \u001b[0;36mread_user_saved_tracks\u001b[0;34m(sp)\u001b[0m\n\u001b[1;32m     14\u001b[0m             \u001b[0mtrack\u001b[0m \u001b[0;34m=\u001b[0m \u001b[0mitem\u001b[0m\u001b[0;34m[\u001b[0m\u001b[0;34m'track'\u001b[0m\u001b[0;34m]\u001b[0m\u001b[0;34m\u001b[0m\u001b[0m\n\u001b[1;32m     15\u001b[0m             \u001b[0;31m#print(track['id'] + \" - \" + track['name'])\u001b[0m\u001b[0;34m\u001b[0m\u001b[0;34m\u001b[0m\u001b[0m\n\u001b[0;32m---> 16\u001b[0;31m             \u001b[0mfeatures_in_json\u001b[0m \u001b[0;34m=\u001b[0m \u001b[0mget_audio_features\u001b[0m\u001b[0;34m(\u001b[0m\u001b[0msp\u001b[0m\u001b[0;34m,\u001b[0m \u001b[0;34m[\u001b[0m\u001b[0mtrack\u001b[0m\u001b[0;34m[\u001b[0m\u001b[0;34m'id'\u001b[0m\u001b[0;34m]\u001b[0m\u001b[0;34m]\u001b[0m\u001b[0;34m)\u001b[0m\u001b[0;34m\u001b[0m\u001b[0m\n\u001b[0m\u001b[1;32m     17\u001b[0m             \u001b[0mtrack_feature\u001b[0m \u001b[0;34m=\u001b[0m \u001b[0;34m[\u001b[0m\u001b[0mvalue\u001b[0m \u001b[0;32mfor\u001b[0m \u001b[0mkey\u001b[0m\u001b[0;34m,\u001b[0m \u001b[0mvalue\u001b[0m \u001b[0;32min\u001b[0m \u001b[0mfeatures_in_json\u001b[0m\u001b[0;34m[\u001b[0m\u001b[0;36m0\u001b[0m\u001b[0;34m]\u001b[0m\u001b[0;34m.\u001b[0m\u001b[0mitems\u001b[0m\u001b[0;34m(\u001b[0m\u001b[0;34m)\u001b[0m  \u001b[0;32mif\u001b[0m \u001b[0mkey\u001b[0m \u001b[0;32min\u001b[0m \u001b[0mfeature_list\u001b[0m\u001b[0;34m]\u001b[0m\u001b[0;34m\u001b[0m\u001b[0m\n\u001b[1;32m     18\u001b[0m             \u001b[0maudio_features\u001b[0m \u001b[0;34m=\u001b[0m \u001b[0mnp\u001b[0m\u001b[0;34m.\u001b[0m\u001b[0mvstack\u001b[0m\u001b[0;34m(\u001b[0m\u001b[0;34m[\u001b[0m\u001b[0maudio_features\u001b[0m\u001b[0;34m,\u001b[0m \u001b[0mtrack_feature\u001b[0m\u001b[0;34m]\u001b[0m\u001b[0;34m)\u001b[0m\u001b[0;34m\u001b[0m\u001b[0m\n",
      "\u001b[0;32m<ipython-input-87-148be35d468a>\u001b[0m in \u001b[0;36mget_audio_features\u001b[0;34m(sp, track_id_list)\u001b[0m\n\u001b[1;32m     24\u001b[0m \u001b[0;34m\u001b[0m\u001b[0m\n\u001b[1;32m     25\u001b[0m \u001b[0;32mdef\u001b[0m \u001b[0mget_audio_features\u001b[0m\u001b[0;34m(\u001b[0m\u001b[0msp\u001b[0m\u001b[0;34m,\u001b[0m \u001b[0mtrack_id_list\u001b[0m\u001b[0;34m)\u001b[0m\u001b[0;34m:\u001b[0m\u001b[0;34m\u001b[0m\u001b[0m\n\u001b[0;32m---> 26\u001b[0;31m     \u001b[0;32mreturn\u001b[0m \u001b[0msp\u001b[0m\u001b[0;34m.\u001b[0m\u001b[0maudio_features\u001b[0m\u001b[0;34m(\u001b[0m\u001b[0mtracks\u001b[0m\u001b[0;34m=\u001b[0m\u001b[0mtrack_id_list\u001b[0m\u001b[0;34m)\u001b[0m\u001b[0;34m\u001b[0m\u001b[0m\n\u001b[0m\u001b[1;32m     27\u001b[0m \u001b[0;34m\u001b[0m\u001b[0m\n\u001b[1;32m     28\u001b[0m \u001b[0;32mdef\u001b[0m \u001b[0mcreate_playlist_for_user\u001b[0m\u001b[0;34m(\u001b[0m\u001b[0msp\u001b[0m\u001b[0;34m,\u001b[0m \u001b[0musername\u001b[0m\u001b[0;34m,\u001b[0m \u001b[0mplaylist_name\u001b[0m\u001b[0;34m)\u001b[0m\u001b[0;34m:\u001b[0m\u001b[0;34m\u001b[0m\u001b[0m\n",
      "\u001b[0;32m/media/gokce/Data/anaconda3/lib/python3.6/site-packages/spotipy/client.py\u001b[0m in \u001b[0;36maudio_features\u001b[0;34m(self, tracks)\u001b[0m\n\u001b[1;32m    827\u001b[0m         \u001b[0;32melse\u001b[0m\u001b[0;34m:\u001b[0m\u001b[0;34m\u001b[0m\u001b[0m\n\u001b[1;32m    828\u001b[0m             \u001b[0mtlist\u001b[0m \u001b[0;34m=\u001b[0m \u001b[0;34m[\u001b[0m\u001b[0mself\u001b[0m\u001b[0;34m.\u001b[0m\u001b[0m_get_id\u001b[0m\u001b[0;34m(\u001b[0m\u001b[0;34m'track'\u001b[0m\u001b[0;34m,\u001b[0m \u001b[0mt\u001b[0m\u001b[0;34m)\u001b[0m \u001b[0;32mfor\u001b[0m \u001b[0mt\u001b[0m \u001b[0;32min\u001b[0m \u001b[0mtracks\u001b[0m\u001b[0;34m]\u001b[0m\u001b[0;34m\u001b[0m\u001b[0m\n\u001b[0;32m--> 829\u001b[0;31m             \u001b[0mresults\u001b[0m \u001b[0;34m=\u001b[0m \u001b[0mself\u001b[0m\u001b[0;34m.\u001b[0m\u001b[0m_get\u001b[0m\u001b[0;34m(\u001b[0m\u001b[0;34m'audio-features/?ids='\u001b[0m \u001b[0;34m+\u001b[0m \u001b[0;34m','\u001b[0m\u001b[0;34m.\u001b[0m\u001b[0mjoin\u001b[0m\u001b[0;34m(\u001b[0m\u001b[0mtlist\u001b[0m\u001b[0;34m)\u001b[0m\u001b[0;34m)\u001b[0m\u001b[0;34m\u001b[0m\u001b[0m\n\u001b[0m\u001b[1;32m    830\u001b[0m         \u001b[0;31m# the response has changed, look for the new style first, and if\u001b[0m\u001b[0;34m\u001b[0m\u001b[0;34m\u001b[0m\u001b[0m\n\u001b[1;32m    831\u001b[0m         \u001b[0;31m# its not there, fallback on the old style\u001b[0m\u001b[0;34m\u001b[0m\u001b[0;34m\u001b[0m\u001b[0m\n",
      "\u001b[0;32m/media/gokce/Data/anaconda3/lib/python3.6/site-packages/spotipy/client.py\u001b[0m in \u001b[0;36m_get\u001b[0;34m(self, url, args, payload, **kwargs)\u001b[0m\n\u001b[1;32m    144\u001b[0m         \u001b[0;32mwhile\u001b[0m \u001b[0mretries\u001b[0m \u001b[0;34m>\u001b[0m \u001b[0;36m0\u001b[0m\u001b[0;34m:\u001b[0m\u001b[0;34m\u001b[0m\u001b[0m\n\u001b[1;32m    145\u001b[0m             \u001b[0;32mtry\u001b[0m\u001b[0;34m:\u001b[0m\u001b[0;34m\u001b[0m\u001b[0m\n\u001b[0;32m--> 146\u001b[0;31m                 \u001b[0;32mreturn\u001b[0m \u001b[0mself\u001b[0m\u001b[0;34m.\u001b[0m\u001b[0m_internal_call\u001b[0m\u001b[0;34m(\u001b[0m\u001b[0;34m'GET'\u001b[0m\u001b[0;34m,\u001b[0m \u001b[0murl\u001b[0m\u001b[0;34m,\u001b[0m \u001b[0mpayload\u001b[0m\u001b[0;34m,\u001b[0m \u001b[0mkwargs\u001b[0m\u001b[0;34m)\u001b[0m\u001b[0;34m\u001b[0m\u001b[0m\n\u001b[0m\u001b[1;32m    147\u001b[0m             \u001b[0;32mexcept\u001b[0m \u001b[0mSpotifyException\u001b[0m \u001b[0;32mas\u001b[0m \u001b[0me\u001b[0m\u001b[0;34m:\u001b[0m\u001b[0;34m\u001b[0m\u001b[0m\n\u001b[1;32m    148\u001b[0m                 \u001b[0mretries\u001b[0m \u001b[0;34m-=\u001b[0m \u001b[0;36m1\u001b[0m\u001b[0;34m\u001b[0m\u001b[0m\n",
      "\u001b[0;32m/media/gokce/Data/anaconda3/lib/python3.6/site-packages/spotipy/client.py\u001b[0m in \u001b[0;36m_internal_call\u001b[0;34m(self, method, url, payload, params)\u001b[0m\n\u001b[1;32m    106\u001b[0m         \u001b[0;32mif\u001b[0m \u001b[0mself\u001b[0m\u001b[0;34m.\u001b[0m\u001b[0mtrace_out\u001b[0m\u001b[0;34m:\u001b[0m\u001b[0;34m\u001b[0m\u001b[0m\n\u001b[1;32m    107\u001b[0m             \u001b[0mprint\u001b[0m\u001b[0;34m(\u001b[0m\u001b[0murl\u001b[0m\u001b[0;34m)\u001b[0m\u001b[0;34m\u001b[0m\u001b[0m\n\u001b[0;32m--> 108\u001b[0;31m         \u001b[0mr\u001b[0m \u001b[0;34m=\u001b[0m \u001b[0mself\u001b[0m\u001b[0;34m.\u001b[0m\u001b[0m_session\u001b[0m\u001b[0;34m.\u001b[0m\u001b[0mrequest\u001b[0m\u001b[0;34m(\u001b[0m\u001b[0mmethod\u001b[0m\u001b[0;34m,\u001b[0m \u001b[0murl\u001b[0m\u001b[0;34m,\u001b[0m \u001b[0mheaders\u001b[0m\u001b[0;34m=\u001b[0m\u001b[0mheaders\u001b[0m\u001b[0;34m,\u001b[0m \u001b[0mproxies\u001b[0m\u001b[0;34m=\u001b[0m\u001b[0mself\u001b[0m\u001b[0;34m.\u001b[0m\u001b[0mproxies\u001b[0m\u001b[0;34m,\u001b[0m \u001b[0;34m**\u001b[0m\u001b[0margs\u001b[0m\u001b[0;34m)\u001b[0m\u001b[0;34m\u001b[0m\u001b[0m\n\u001b[0m\u001b[1;32m    109\u001b[0m \u001b[0;34m\u001b[0m\u001b[0m\n\u001b[1;32m    110\u001b[0m         \u001b[0;32mif\u001b[0m \u001b[0mself\u001b[0m\u001b[0;34m.\u001b[0m\u001b[0mtrace\u001b[0m\u001b[0;34m:\u001b[0m  \u001b[0;31m# pragma: no cover\u001b[0m\u001b[0;34m\u001b[0m\u001b[0m\n",
      "\u001b[0;32m/media/gokce/Data/anaconda3/lib/python3.6/site-packages/requests/sessions.py\u001b[0m in \u001b[0;36mrequest\u001b[0;34m(self, method, url, params, data, headers, cookies, files, auth, timeout, allow_redirects, proxies, hooks, stream, verify, cert, json)\u001b[0m\n\u001b[1;32m    506\u001b[0m         }\n\u001b[1;32m    507\u001b[0m         \u001b[0msend_kwargs\u001b[0m\u001b[0;34m.\u001b[0m\u001b[0mupdate\u001b[0m\u001b[0;34m(\u001b[0m\u001b[0msettings\u001b[0m\u001b[0;34m)\u001b[0m\u001b[0;34m\u001b[0m\u001b[0m\n\u001b[0;32m--> 508\u001b[0;31m         \u001b[0mresp\u001b[0m \u001b[0;34m=\u001b[0m \u001b[0mself\u001b[0m\u001b[0;34m.\u001b[0m\u001b[0msend\u001b[0m\u001b[0;34m(\u001b[0m\u001b[0mprep\u001b[0m\u001b[0;34m,\u001b[0m \u001b[0;34m**\u001b[0m\u001b[0msend_kwargs\u001b[0m\u001b[0;34m)\u001b[0m\u001b[0;34m\u001b[0m\u001b[0m\n\u001b[0m\u001b[1;32m    509\u001b[0m \u001b[0;34m\u001b[0m\u001b[0m\n\u001b[1;32m    510\u001b[0m         \u001b[0;32mreturn\u001b[0m \u001b[0mresp\u001b[0m\u001b[0;34m\u001b[0m\u001b[0m\n",
      "\u001b[0;32m/media/gokce/Data/anaconda3/lib/python3.6/site-packages/requests/sessions.py\u001b[0m in \u001b[0;36msend\u001b[0;34m(self, request, **kwargs)\u001b[0m\n\u001b[1;32m    616\u001b[0m \u001b[0;34m\u001b[0m\u001b[0m\n\u001b[1;32m    617\u001b[0m         \u001b[0;31m# Send the request\u001b[0m\u001b[0;34m\u001b[0m\u001b[0;34m\u001b[0m\u001b[0m\n\u001b[0;32m--> 618\u001b[0;31m         \u001b[0mr\u001b[0m \u001b[0;34m=\u001b[0m \u001b[0madapter\u001b[0m\u001b[0;34m.\u001b[0m\u001b[0msend\u001b[0m\u001b[0;34m(\u001b[0m\u001b[0mrequest\u001b[0m\u001b[0;34m,\u001b[0m \u001b[0;34m**\u001b[0m\u001b[0mkwargs\u001b[0m\u001b[0;34m)\u001b[0m\u001b[0;34m\u001b[0m\u001b[0m\n\u001b[0m\u001b[1;32m    619\u001b[0m \u001b[0;34m\u001b[0m\u001b[0m\n\u001b[1;32m    620\u001b[0m         \u001b[0;31m# Total elapsed time of the request (approximately)\u001b[0m\u001b[0;34m\u001b[0m\u001b[0;34m\u001b[0m\u001b[0m\n",
      "\u001b[0;32m/media/gokce/Data/anaconda3/lib/python3.6/site-packages/requests/adapters.py\u001b[0m in \u001b[0;36msend\u001b[0;34m(self, request, stream, timeout, verify, cert, proxies)\u001b[0m\n\u001b[1;32m    438\u001b[0m                     \u001b[0mdecode_content\u001b[0m\u001b[0;34m=\u001b[0m\u001b[0;32mFalse\u001b[0m\u001b[0;34m,\u001b[0m\u001b[0;34m\u001b[0m\u001b[0m\n\u001b[1;32m    439\u001b[0m                     \u001b[0mretries\u001b[0m\u001b[0;34m=\u001b[0m\u001b[0mself\u001b[0m\u001b[0;34m.\u001b[0m\u001b[0mmax_retries\u001b[0m\u001b[0;34m,\u001b[0m\u001b[0;34m\u001b[0m\u001b[0m\n\u001b[0;32m--> 440\u001b[0;31m                     \u001b[0mtimeout\u001b[0m\u001b[0;34m=\u001b[0m\u001b[0mtimeout\u001b[0m\u001b[0;34m\u001b[0m\u001b[0m\n\u001b[0m\u001b[1;32m    441\u001b[0m                 )\n\u001b[1;32m    442\u001b[0m \u001b[0;34m\u001b[0m\u001b[0m\n",
      "\u001b[0;32m/media/gokce/Data/anaconda3/lib/python3.6/site-packages/urllib3/connectionpool.py\u001b[0m in \u001b[0;36murlopen\u001b[0;34m(self, method, url, body, headers, retries, redirect, assert_same_host, timeout, pool_timeout, release_conn, chunked, body_pos, **response_kw)\u001b[0m\n\u001b[1;32m    599\u001b[0m                                                   \u001b[0mtimeout\u001b[0m\u001b[0;34m=\u001b[0m\u001b[0mtimeout_obj\u001b[0m\u001b[0;34m,\u001b[0m\u001b[0;34m\u001b[0m\u001b[0m\n\u001b[1;32m    600\u001b[0m                                                   \u001b[0mbody\u001b[0m\u001b[0;34m=\u001b[0m\u001b[0mbody\u001b[0m\u001b[0;34m,\u001b[0m \u001b[0mheaders\u001b[0m\u001b[0;34m=\u001b[0m\u001b[0mheaders\u001b[0m\u001b[0;34m,\u001b[0m\u001b[0;34m\u001b[0m\u001b[0m\n\u001b[0;32m--> 601\u001b[0;31m                                                   chunked=chunked)\n\u001b[0m\u001b[1;32m    602\u001b[0m \u001b[0;34m\u001b[0m\u001b[0m\n\u001b[1;32m    603\u001b[0m             \u001b[0;31m# If we're going to release the connection in ``finally:``, then\u001b[0m\u001b[0;34m\u001b[0m\u001b[0;34m\u001b[0m\u001b[0m\n",
      "\u001b[0;32m/media/gokce/Data/anaconda3/lib/python3.6/site-packages/urllib3/connectionpool.py\u001b[0m in \u001b[0;36m_make_request\u001b[0;34m(self, conn, method, url, timeout, chunked, **httplib_request_kw)\u001b[0m\n\u001b[1;32m    344\u001b[0m         \u001b[0;31m# Trigger any extra validation we need to do.\u001b[0m\u001b[0;34m\u001b[0m\u001b[0;34m\u001b[0m\u001b[0m\n\u001b[1;32m    345\u001b[0m         \u001b[0;32mtry\u001b[0m\u001b[0;34m:\u001b[0m\u001b[0;34m\u001b[0m\u001b[0m\n\u001b[0;32m--> 346\u001b[0;31m             \u001b[0mself\u001b[0m\u001b[0;34m.\u001b[0m\u001b[0m_validate_conn\u001b[0m\u001b[0;34m(\u001b[0m\u001b[0mconn\u001b[0m\u001b[0;34m)\u001b[0m\u001b[0;34m\u001b[0m\u001b[0m\n\u001b[0m\u001b[1;32m    347\u001b[0m         \u001b[0;32mexcept\u001b[0m \u001b[0;34m(\u001b[0m\u001b[0mSocketTimeout\u001b[0m\u001b[0;34m,\u001b[0m \u001b[0mBaseSSLError\u001b[0m\u001b[0;34m)\u001b[0m \u001b[0;32mas\u001b[0m \u001b[0me\u001b[0m\u001b[0;34m:\u001b[0m\u001b[0;34m\u001b[0m\u001b[0m\n\u001b[1;32m    348\u001b[0m             \u001b[0;31m# Py2 raises this as a BaseSSLError, Py3 raises it as socket timeout.\u001b[0m\u001b[0;34m\u001b[0m\u001b[0;34m\u001b[0m\u001b[0m\n",
      "\u001b[0;32m/media/gokce/Data/anaconda3/lib/python3.6/site-packages/urllib3/connectionpool.py\u001b[0m in \u001b[0;36m_validate_conn\u001b[0;34m(self, conn)\u001b[0m\n\u001b[1;32m    848\u001b[0m         \u001b[0;31m# Force connect early to allow us to validate the connection.\u001b[0m\u001b[0;34m\u001b[0m\u001b[0;34m\u001b[0m\u001b[0m\n\u001b[1;32m    849\u001b[0m         \u001b[0;32mif\u001b[0m \u001b[0;32mnot\u001b[0m \u001b[0mgetattr\u001b[0m\u001b[0;34m(\u001b[0m\u001b[0mconn\u001b[0m\u001b[0;34m,\u001b[0m \u001b[0;34m'sock'\u001b[0m\u001b[0;34m,\u001b[0m \u001b[0;32mNone\u001b[0m\u001b[0;34m)\u001b[0m\u001b[0;34m:\u001b[0m  \u001b[0;31m# AppEngine might not have  `.sock`\u001b[0m\u001b[0;34m\u001b[0m\u001b[0m\n\u001b[0;32m--> 850\u001b[0;31m             \u001b[0mconn\u001b[0m\u001b[0;34m.\u001b[0m\u001b[0mconnect\u001b[0m\u001b[0;34m(\u001b[0m\u001b[0;34m)\u001b[0m\u001b[0;34m\u001b[0m\u001b[0m\n\u001b[0m\u001b[1;32m    851\u001b[0m \u001b[0;34m\u001b[0m\u001b[0m\n\u001b[1;32m    852\u001b[0m         \u001b[0;32mif\u001b[0m \u001b[0;32mnot\u001b[0m \u001b[0mconn\u001b[0m\u001b[0;34m.\u001b[0m\u001b[0mis_verified\u001b[0m\u001b[0;34m:\u001b[0m\u001b[0;34m\u001b[0m\u001b[0m\n",
      "\u001b[0;32m/media/gokce/Data/anaconda3/lib/python3.6/site-packages/urllib3/connection.py\u001b[0m in \u001b[0;36mconnect\u001b[0;34m(self)\u001b[0m\n\u001b[1;32m    282\u001b[0m     \u001b[0;32mdef\u001b[0m \u001b[0mconnect\u001b[0m\u001b[0;34m(\u001b[0m\u001b[0mself\u001b[0m\u001b[0;34m)\u001b[0m\u001b[0;34m:\u001b[0m\u001b[0;34m\u001b[0m\u001b[0m\n\u001b[1;32m    283\u001b[0m         \u001b[0;31m# Add certificate verification\u001b[0m\u001b[0;34m\u001b[0m\u001b[0;34m\u001b[0m\u001b[0m\n\u001b[0;32m--> 284\u001b[0;31m         \u001b[0mconn\u001b[0m \u001b[0;34m=\u001b[0m \u001b[0mself\u001b[0m\u001b[0;34m.\u001b[0m\u001b[0m_new_conn\u001b[0m\u001b[0;34m(\u001b[0m\u001b[0;34m)\u001b[0m\u001b[0;34m\u001b[0m\u001b[0m\n\u001b[0m\u001b[1;32m    285\u001b[0m \u001b[0;34m\u001b[0m\u001b[0m\n\u001b[1;32m    286\u001b[0m         \u001b[0mhostname\u001b[0m \u001b[0;34m=\u001b[0m \u001b[0mself\u001b[0m\u001b[0;34m.\u001b[0m\u001b[0mhost\u001b[0m\u001b[0;34m\u001b[0m\u001b[0m\n",
      "\u001b[0;32m/media/gokce/Data/anaconda3/lib/python3.6/site-packages/urllib3/connection.py\u001b[0m in \u001b[0;36m_new_conn\u001b[0;34m(self)\u001b[0m\n\u001b[1;32m    139\u001b[0m         \u001b[0;32mtry\u001b[0m\u001b[0;34m:\u001b[0m\u001b[0;34m\u001b[0m\u001b[0m\n\u001b[1;32m    140\u001b[0m             conn = connection.create_connection(\n\u001b[0;32m--> 141\u001b[0;31m                 (self.host, self.port), self.timeout, **extra_kw)\n\u001b[0m\u001b[1;32m    142\u001b[0m \u001b[0;34m\u001b[0m\u001b[0m\n\u001b[1;32m    143\u001b[0m         \u001b[0;32mexcept\u001b[0m \u001b[0mSocketTimeout\u001b[0m \u001b[0;32mas\u001b[0m \u001b[0me\u001b[0m\u001b[0;34m:\u001b[0m\u001b[0;34m\u001b[0m\u001b[0m\n",
      "\u001b[0;32m/media/gokce/Data/anaconda3/lib/python3.6/site-packages/urllib3/util/connection.py\u001b[0m in \u001b[0;36mcreate_connection\u001b[0;34m(address, timeout, source_address, socket_options)\u001b[0m\n\u001b[1;32m     71\u001b[0m             \u001b[0;32mif\u001b[0m \u001b[0msource_address\u001b[0m\u001b[0;34m:\u001b[0m\u001b[0;34m\u001b[0m\u001b[0m\n\u001b[1;32m     72\u001b[0m                 \u001b[0msock\u001b[0m\u001b[0;34m.\u001b[0m\u001b[0mbind\u001b[0m\u001b[0;34m(\u001b[0m\u001b[0msource_address\u001b[0m\u001b[0;34m)\u001b[0m\u001b[0;34m\u001b[0m\u001b[0m\n\u001b[0;32m---> 73\u001b[0;31m             \u001b[0msock\u001b[0m\u001b[0;34m.\u001b[0m\u001b[0mconnect\u001b[0m\u001b[0;34m(\u001b[0m\u001b[0msa\u001b[0m\u001b[0;34m)\u001b[0m\u001b[0;34m\u001b[0m\u001b[0m\n\u001b[0m\u001b[1;32m     74\u001b[0m             \u001b[0;32mreturn\u001b[0m \u001b[0msock\u001b[0m\u001b[0;34m\u001b[0m\u001b[0m\n\u001b[1;32m     75\u001b[0m \u001b[0;34m\u001b[0m\u001b[0m\n",
      "\u001b[0;31mKeyboardInterrupt\u001b[0m: "
     ]
    }
   ],
   "source": [
    "user_saved_tracks = read_user_saved_tracks(sp)\n",
    "user_saved_tracks"
   ]
  },
  {
   "cell_type": "code",
   "execution_count": 54,
   "metadata": {},
   "outputs": [],
   "source": [
    "def weighted_norm(arr1, arr2, ind=-1, weight=10):\n",
    "    if ind != -1:\n",
    "        arr1[ind] *= weight\n",
    "        arr2[ind] *= weight\n",
    "    return np.linalg.norm(arr1-arr2)"
   ]
  },
  {
   "cell_type": "markdown",
   "metadata": {},
   "source": [
    "## Playlist Generation using MSD tracks"
   ]
  },
  {
   "cell_type": "markdown",
   "metadata": {},
   "source": [
    "Below, a KMeans model is trained using MSD data"
   ]
  },
  {
   "cell_type": "code",
   "execution_count": 67,
   "metadata": {},
   "outputs": [
    {
     "name": "stdout",
     "output_type": "stream",
     "text": [
      "inertia: 12023.8935989\n",
      "Silhouette Coefficient: 0.125\n"
     ]
    }
   ],
   "source": [
    "import pandas as pd\n",
    "import numpy as np\n",
    "from sklearn.cluster import KMeans\n",
    "from sklearn.cluster import AffinityPropagation\n",
    "from sklearn import metrics\n",
    "from sklearn.model_selection import train_test_split\n",
    "input_data_path = \"features_msd_lda_sp.csv\"\n",
    "NO_OF_CLUSTER = 100\n",
    "dataset = pd.read_csv(input_data_path)\n",
    "dataset.drop([\"Unnamed: 0\"], 1, inplace=True)\n",
    "string_features = [\"track_id\", \"id\", \"artist_name\", \"title\"]\n",
    "datacopy = dataset.copy()\n",
    "datacopy.drop(string_features, 1, inplace = True)\n",
    "genres = dataset.genre.unique()\n",
    "for index, genre in zip(range(0, len(genres)),genres):\n",
    "    datacopy.loc[datacopy['genre'] == genre, 'genre'] = index \n",
    "for column in datacopy.columns:\n",
    "    max_of_column = datacopy[column].max()\n",
    "    datacopy[column] = datacopy[column].apply(lambda x: x / max_of_column)\n",
    "def create_input_for_clustering(dataset):\n",
    "    genres = dataset.genre.unique()\n",
    "    for index, genre in zip(range(0, len(genres)),genres):\n",
    "        dataset.loc[dataset['genre'] == genre, 'genre'] = index \n",
    "        #dataset.drop(string_features, 1, inplace = True)\n",
    "    return dataset.as_matrix()\n",
    "X = create_input_for_clustering(datacopy.copy())\n",
    "kmeans = KMeans(n_clusters=319)\n",
    "kmeans = kmeans.fit(X)\n",
    "# Getting the cluster labels\n",
    "labels = kmeans.predict(X)\n",
    "# Centroid values\n",
    "centroids = kmeans.cluster_centers_\n",
    "inertia = kmeans.inertia_\n",
    "print(\"inertia:\", inertia)\n",
    "print(\"Silhouette Coefficient: %0.3f\"\n",
    "      % metrics.silhouette_score(X, labels, metric='sqeuclidean'))"
   ]
  },
  {
   "cell_type": "markdown",
   "metadata": {},
   "source": [
    "Now, we're normalizing features of users' saved tracks. "
   ]
  },
  {
   "cell_type": "code",
   "execution_count": 68,
   "metadata": {},
   "outputs": [],
   "source": [
    "audio_features = user_saved_tracks\n",
    "user_saved_tracks_df = pd.DataFrame(data = audio_features[1:, 0:], columns=audio_features[0,0:])\n",
    "audio_features = audio_features[:, :-1]\n",
    "audio_feature_df = pd.DataFrame(data = audio_features[1:, 0:], columns=audio_features[0,0:])\n",
    "columns = list(dataset.columns.values)[-12:][:-1]\n",
    "for column in columns:\n",
    "    max_of_column = dataset[str(column)].max()\n",
    "    if column.endswith('_y'):\n",
    "        column = column[:-2]\n",
    "    audio_feature_df[column] = pd.to_numeric(audio_feature_df[column], errors='coerce') / max_of_column\n",
    "audio_features = audio_feature_df.as_matrix()"
   ]
  },
  {
   "cell_type": "code",
   "execution_count": 69,
   "metadata": {},
   "outputs": [
    {
     "data": {
      "text/plain": [
       "<bound method NDFrame.head of     danceability energy key loudness mode speechiness acousticness  \\\n",
       "0          0.448  0.331   5   -9.003    1      0.0301         0.71   \n",
       "1          0.385  0.485   7   -6.036    0      0.0522        0.423   \n",
       "2           0.44  0.834  11   -7.391    0      0.0772        0.702   \n",
       "3           0.28  0.368   2  -10.756    0      0.0354        0.761   \n",
       "4          0.354  0.474   2   -6.295    1      0.0267         0.75   \n",
       "5          0.285  0.491  10   -8.525    0      0.0331        0.839   \n",
       "6          0.353  0.588   7   -7.805    0      0.0365        0.748   \n",
       "7          0.745  0.466   4    -7.62    0      0.0864      0.00666   \n",
       "8           0.42  0.929   7   -3.899    0       0.121     0.000353   \n",
       "9            0.6  0.796   2   -4.481    1      0.0275     0.000109   \n",
       "10         0.586  0.656   1   -5.694    0      0.0252       0.0969   \n",
       "11         0.378  0.896   2   -4.066    1      0.0407     0.000452   \n",
       "12          0.62  0.243   2  -13.545    1      0.0362        0.941   \n",
       "13         0.323  0.382   0   -8.349    1      0.0391          0.8   \n",
       "14         0.573  0.255   0  -14.362    0      0.0402        0.957   \n",
       "15         0.608  0.587   4   -7.286    0      0.0333        0.778   \n",
       "16         0.528  0.257   4   -8.936    1      0.0431        0.768   \n",
       "17         0.825    0.4   0  -12.626    1      0.0456         0.49   \n",
       "18         0.359  0.407  10   -9.338    1      0.0363        0.586   \n",
       "19         0.304  0.412   5   -7.895    0      0.0325        0.766   \n",
       "20         0.697  0.286   2  -14.804    1      0.0377        0.587   \n",
       "21         0.688  0.731   5   -4.541    1      0.0513         0.38   \n",
       "22         0.386  0.445  11  -11.713    0      0.0377        0.606   \n",
       "23         0.168  0.427   2   -8.942    0      0.0306        0.611   \n",
       "24         0.441  0.684   0   -5.813    0      0.0324       0.0161   \n",
       "25         0.431  0.834  10   -5.686    0      0.0527     0.000329   \n",
       "26         0.474  0.751   8   -7.229    0      0.0412      0.00439   \n",
       "27         0.298  0.818   7   -6.267    1        0.11        0.189   \n",
       "28         0.737  0.309   3  -10.902    0       0.135        0.833   \n",
       "29         0.477  0.796   7     -4.9    0      0.0644        0.524   \n",
       "..           ...    ...  ..      ...  ...         ...          ...   \n",
       "219        0.536  0.324   9  -12.835    1      0.0292        0.644   \n",
       "220        0.477  0.659  10    -6.87    1      0.0323        0.189   \n",
       "221        0.483  0.177   5  -12.631    0      0.0384        0.953   \n",
       "222        0.315  0.277   9  -11.926    0      0.0358        0.932   \n",
       "223        0.351  0.337   2    -6.64    0      0.0302        0.856   \n",
       "224        0.428  0.208   9  -10.202    0      0.0285        0.846   \n",
       "225        0.492  0.587   7   -8.809    0      0.0356        0.542   \n",
       "226        0.384  0.267   5  -10.422    0      0.0668        0.931   \n",
       "227        0.726  0.691   5   -5.985    0      0.0389        0.304   \n",
       "228        0.563  0.494   2   -6.006    1       0.171        0.824   \n",
       "229        0.354  0.418   9  -12.698    0      0.0298        0.501   \n",
       "230        0.486   0.71   4   -7.715    0      0.0443       0.0813   \n",
       "231        0.689  0.869   7   -7.793    0      0.0339        0.208   \n",
       "232        0.665  0.734   2   -5.109    1      0.0255        0.412   \n",
       "233        0.769  0.932   7    -3.22    0      0.0811        0.537   \n",
       "234        0.562  0.535   9   -7.775    1       0.038        0.351   \n",
       "235        0.639  0.617   7   -5.777    0      0.0285        0.368   \n",
       "236        0.262  0.328   4  -12.897    1      0.0376        0.753   \n",
       "237        0.654  0.225   4  -16.401    0      0.0282        0.906   \n",
       "238        0.362  0.418   4   -7.988    0      0.0456        0.813   \n",
       "239        0.486  0.423   0  -10.407    0      0.0278        0.477   \n",
       "240         0.61  0.788   9   -8.704    0      0.0403        0.152   \n",
       "241         0.67  0.643   7   -8.696    1      0.0479       0.0396   \n",
       "242        0.616  0.503  11   -9.208    0      0.0256        0.241   \n",
       "243        0.536  0.649   0   -6.666    1      0.0442        0.776   \n",
       "244        0.583   0.52  11   -7.835    0      0.0454        0.744   \n",
       "245        0.753  0.561   5   -6.856    0      0.0641         0.31   \n",
       "246        0.663  0.494   2  -14.809    1       0.244        0.618   \n",
       "247        0.582  0.186   7  -14.387    1      0.0294        0.698   \n",
       "248        0.557  0.266   2  -11.229    0      0.0478         0.85   \n",
       "\n",
       "    instrumentalness liveness valence    tempo                      id  \n",
       "0                  0    0.129   0.549  120.373  05CS4vtvc5hbbofZyo3xhB  \n",
       "1           0.000104    0.103   0.228  119.836  6a9BbEiz6gO2EqLnrSAKwA  \n",
       "2            0.00229    0.845   0.637   97.866  4RvGb487EhZvP78lrjkDAJ  \n",
       "3             0.0003    0.778   0.277   79.654  3WFB5CrA5pVu4IDyWM8jHN  \n",
       "4           0.000198     0.68   0.482   93.387  5nv8Dag3AwVyIhbsrkXzNW  \n",
       "5              0.229    0.921   0.183   60.271  6KKufUK3J3YV4m39RRSX4X  \n",
       "6           0.000657     0.77   0.364  109.712  2xFz8df57bs3d6PeevR7w7  \n",
       "7               0.35    0.272   0.303  123.889  3m6KkYKdnbffMpGd9Pm9FP  \n",
       "8           0.000747    0.122     0.3  127.204  5V3mdRI2yQxbSsJGDPc5lD  \n",
       "9            5.2e-05    0.484    0.75  105.991  1fr92Vupmcs2vgLMFVQ7rd  \n",
       "10          0.000379    0.124   0.333  131.912  6vbgHYlDD0fwSU54D2bD6o  \n",
       "11                 0    0.194   0.469  174.302  5qqabIl2vWzo9ApSC317sa  \n",
       "12            0.0342    0.111   0.331  103.958  7f9Zt8RE1bP8JhLpS8tkMM  \n",
       "13                 0     0.17   0.361  162.542  6u16rWdW0IvYXiH0Z2zGLc  \n",
       "14          8.25e-05    0.105    0.21   96.226  1N76UccpbTgfKoqgUkKwq3  \n",
       "15                 0    0.267   0.798  133.687  6BlHr5rVvdOtmCtzdI5Jpx  \n",
       "16           1.6e-06    0.103   0.271  151.757  0ymefFAE4ESZzg5bVlH4o4  \n",
       "17                 0   0.0981   0.838    106.0  1rY4UYyZ3PcuYgWIddkcnL  \n",
       "18          1.96e-06    0.156    0.35   179.55  3guIdcv4do5sM9Y4PLGppK  \n",
       "19                 0    0.319   0.412  180.111  4RFKg7maJvr3OHWYoex9kO  \n",
       "20          5.95e-06   0.0871   0.428    80.14  39Shd0A8AL4jZ7bmuvEWAu  \n",
       "21                 0    0.283   0.735   93.016  1XYNzI238LSNLpVjC6M69F  \n",
       "22          0.000243    0.702   0.188   77.881  5YwVDOWMKH7T0KtvpPSESQ  \n",
       "23          0.000123    0.076   0.167   72.489  0UU34M7WNqtu95c3nZZtPU  \n",
       "24          1.97e-06    0.604   0.164  136.092  0XI4ay60DBZup6D2kYuqHy  \n",
       "25          0.000114    0.137   0.194  176.219  5sz5uDZjxZAmlINFkFUobZ  \n",
       "26          1.48e-06    0.154   0.636  159.927  4NPeA5XXs6tjHrtanLYJxf  \n",
       "27                 0    0.407   0.662  198.722  74lCTfwagoLphYSBdys81W  \n",
       "28                 0   0.0821   0.863  116.876  0LBua0mRC37pQzTVVUk3lB  \n",
       "29          0.000425    0.105   0.348  158.167  0CK3hcpHOBzl8nbxQ85NFr  \n",
       "..               ...      ...     ...      ...                     ...  \n",
       "219           0.0596   0.0876   0.148  106.756  2Cxi6b8W3OKKUrxciBDjCA  \n",
       "220         0.000439     0.34   0.318  104.163  0iCxD87jgY4NQIp1hFTXKw  \n",
       "221          4.5e-05    0.103   0.175   90.355  1DgpNduGlD9hq3Nk004G8z  \n",
       "222            0.458    0.106   0.154   76.057  6jFYqDwz2a1IlSXWvye2MR  \n",
       "223                0     0.11   0.168  140.028  72HGjwAM9DmY1bf7dAaFSd  \n",
       "224         3.43e-05   0.0976   0.278   89.889  1SE2vMX3pEcDlw1tAUoY4G  \n",
       "225                0    0.263   0.665   122.74  6Z7zRYgeSWtRxi0xmqMjDK  \n",
       "226           0.0504    0.123   0.339   81.467  7j5W7ThfZ4rIouXDDNS0m5  \n",
       "227         3.45e-06   0.0971   0.923    91.98  0BKufLWyERKNL4MZOB1rC0  \n",
       "228                0    0.456   0.899  115.861  3sWXNkhqBjwjJYqSGS6S2M  \n",
       "229            0.478    0.135   0.161   79.978  2y9YwDQ9ehBkV0wLB6vm5o  \n",
       "230         0.000128    0.103   0.323   79.932  4l0XGK3I5NyZH7h9xltqpG  \n",
       "231            0.241    0.213   0.962  100.048  03Qa4yCUzzXK5RtCXEQEw7  \n",
       "232                0    0.147   0.678  105.023  5BLdUjz1msOKaYUbvZ3FQo  \n",
       "233           0.0125    0.249   0.824  114.046  2yuRGgNmNw3KL73YJWU0Au  \n",
       "234         0.000288    0.206   0.582  138.645  5vdRps0xsJPOuBXAS3fC5w  \n",
       "235         8.19e-06   0.0865   0.675  156.045  1yMadjsbzOne0wdYPxDZyX  \n",
       "236                0    0.227   0.533  207.074  3cVWNLd0uEHkc2tnBoE3Ay  \n",
       "237            0.184     0.11    0.27   87.979  1l68xl90ao9ficFgP2FM4u  \n",
       "238                0   0.0984   0.308  108.093  78KQItJWTBhD5Gm4Wrvq3Z  \n",
       "239           0.0073    0.151   0.236   97.957  6HYZZAvAUzDONf0D1xqGfj  \n",
       "240            0.225    0.105   0.766  140.027  6kR6JFF4BHocK65hbII5Ew  \n",
       "241            0.262    0.368    0.57   90.052  7zoBAESQSuNw8froX20kL3  \n",
       "242           0.0732    0.124   0.642  107.979  3DpXWapy0LD3ZnLpy7gPgI  \n",
       "243         3.29e-06    0.729   0.531   57.899  7GbXDZJPJtoWzM99KbQk0Z  \n",
       "244                0    0.742   0.304  130.755  17X582hYRP0yevLNO4jzua  \n",
       "245         1.71e-05    0.135   0.537  132.055  5fE8H2yzKJBSN00iLt8GhR  \n",
       "246                0    0.121   0.531  119.872  6a0BcOBXGJ9gr5MZ189oRG  \n",
       "247                0    0.107   0.612  103.095  6sOTwzUE73fU6OFNRtYDi3  \n",
       "248                0    0.114   0.373  144.811  795qPRGb0VFJFVrt28MkQo  \n",
       "\n",
       "[249 rows x 12 columns]>"
      ]
     },
     "execution_count": 69,
     "metadata": {},
     "output_type": "execute_result"
    }
   ],
   "source": [
    "user_saved_tracks_df.head"
   ]
  },
  {
   "cell_type": "markdown",
   "metadata": {},
   "source": [
    "Below, we're generating playlist from MSD tracks based on a seed song from users' saved tracks."
   ]
  },
  {
   "cell_type": "code",
   "execution_count": 85,
   "metadata": {},
   "outputs": [
    {
     "name": "stdout",
     "output_type": "stream",
     "text": [
      "6cW9ndWeLeU9WUA9RZ49Md\n",
      "======\n",
      "3652                        It's Only Money by Thin Lizzy\n",
      "3653                        Me And The Boys by Thin Lizzy\n",
      "4865                   Rhinestone Cowboy by Glen Campbell\n",
      "541                       All Or Nothing by Milli Vanilli\n",
      "4653                             Burundanga by Celia Cruz\n",
      "4752                        Ooh Baby Baby by The Miracles\n",
      "5695                   Living In A Box by Living In A Box\n",
      "5276                          Hound Dog by Little Richard\n",
      "3160    Roll On Down The Highway by Bachman-Turner Ove...\n",
      "3157                Down Down by Bachman-Turner Overdrive\n",
      "dtype: object\n"
     ]
    }
   ],
   "source": [
    "import random \n",
    "NUMBER_OF_PLAYLIST_GENERATED = 1\n",
    "#random_track_indices = random.sample(range(audio_features.shape[0]), NUMBER_OF_PLAYLIST_GENERATED)\n",
    "random_track_indices = [183]\n",
    "test_input = audio_features.copy()[random_track_indices]\n",
    "nones = np.zeros((test_input.shape[0], X.shape[1]-len(feature_list)+1))\n",
    "test_input = np.append(nones, test_input, axis=1)\n",
    "\n",
    "column_dict = {k: v for v, k in enumerate(list(dataset.drop(string_features, 1)))}\n",
    "cluster_numbers = kmeans.predict(test_input)\n",
    "\n",
    "for i, (cluster_number, random_track_ind) in enumerate(zip(cluster_numbers, random_track_indices)):\n",
    "    index = kmeans.labels_ == cluster_number\n",
    "    indices = [ind for ind, value in zip(range(0, len(labels)), index) if value == True]\n",
    "    d = ([weighted_norm(X[ind], test_input[i]) for ind in indices])\n",
    "    ind = np.argsort(d)[::-1][:10]\n",
    "    indices = [indices[x] for x in ind]\n",
    "    print(user_saved_tracks_df.iloc[random_track_ind][\"id\"])\n",
    "    print ('======')\n",
    "    print(dataset.iloc[indices][\"title\"] + \" by \" + dataset.iloc[indices][\"artist_name\"])\n",
    "    track_ids = dataset.iloc[indices][\"id\"].values.tolist()\n",
    "    sp.trace = False\n",
    "    playlist_name = \"automatic-generated-playlist-\" + str(PLAYLIST_NO)\n",
    "    PLAYLIST_NO += 1\n",
    "    playlists = sp.user_playlist_create(username, playlist_name)\n",
    "    playlist_id = playlists[\"id\"]\n",
    "    results = sp.user_playlist_add_tracks(username, playlist_id, track_ids)"
   ]
  },
  {
   "cell_type": "markdown",
   "metadata": {},
   "source": [
    "## Playlist Generation using User's saved tracks"
   ]
  },
  {
   "cell_type": "markdown",
   "metadata": {},
   "source": [
    "Below, we're gonna train KMeans model on user's saved tracks and generate playlist from these tracks based on a seed track."
   ]
  },
  {
   "cell_type": "code",
   "execution_count": 59,
   "metadata": {},
   "outputs": [],
   "source": [
    "audio_features = user_saved_tracks\n",
    "user_saved_tracks_df = pd.DataFrame(data = audio_features[1:, 0:], columns=audio_features[0,0:])\n",
    "audio_features = audio_features[:, :-1]\n",
    "audio_feature_df = pd.DataFrame(data = audio_features[1:, 0:], columns=audio_features[0,0:])\n",
    "columns = list(dataset.columns.values)[-12:][:-1]\n",
    "for column in columns:\n",
    "    max_of_column = dataset[str(column)].max()\n",
    "    if column.endswith('_y'):\n",
    "        column = column[:-2]\n",
    "    audio_feature_df[column] = pd.to_numeric(audio_feature_df[column], errors='coerce') / max_of_column\n",
    "audio_features = audio_feature_df.as_matrix()\n",
    "kmeans_user = KMeans(n_clusters=15)\n",
    "kmeans_user = kmeans_user.fit(audio_features)\n",
    "# Getting the cluster labels\n",
    "labels = kmeans_user.predict(audio_features)"
   ]
  },
  {
   "cell_type": "code",
   "execution_count": 60,
   "metadata": {},
   "outputs": [
    {
     "name": "stdout",
     "output_type": "stream",
     "text": [
      "1p79faae6M9lWpKyrKLNwD\n",
      "======\n",
      "['4dytZLx1iSu9tSDQUnJDHg', '2d7LPtieXdIYzf7yHPooWd', '3cBtANnJGopPaRMXCl3mV7', '5Qsunik4B1QMO6ZdxVroLJ', '1d8S23OZqfCXq5AT34ol0q', '06rR2oyiyLea7sCqRiI7em', '4BX2l7iMZ7OYSJDGwoODgh', '77dQzT15KNr5JTAynjSiMM', '2nlWKPk6RzV0n9a1OUeTCz', '4yRPGDmtIWZjhIPcEvPxsF']\n"
     ]
    }
   ],
   "source": [
    "import random \n",
    "NUMBER_OF_PLAYLIST_GENERATED = 1\n",
    "random_track_indices = random.sample(range(audio_features.shape[0]), NUMBER_OF_PLAYLIST_GENERATED)\n",
    "test_input = audio_features.copy()[random_track_indices]\n",
    "column_dict = {k: v for v, k in enumerate(list(feature_list))}\n",
    "cluster_numbers = kmeans_user.predict(test_input)\n",
    "for i, (cluster_number, random_track_ind) in enumerate(zip(cluster_numbers, random_track_indices)):\n",
    "    index = kmeans_user.labels_ == cluster_number\n",
    "    indices = [ind for ind, value in zip(range(0, len(labels)), index) if value == True]\n",
    "    d = ([weighted_norm(audio_features[ind], test_input[i], column_dict[\"energy\"]) for ind in indices])\n",
    "    ind = np.argsort(d)[::-1][:10]\n",
    "    indices = [indices[x] for x in ind]\n",
    "    print(user_saved_tracks_df.iloc[random_track_ind][\"id\"])\n",
    "    print ('======')\n",
    "    track_ids = user_saved_tracks_df.iloc[indices][\"id\"].values.tolist()\n",
    "    sp.trace = False\n",
    "    print(track_ids)\n",
    "    playlist_name = \"automatic-generated-playlist-\" + str(PLAYLIST_NO)\n",
    "    PLAYLIST_NO += 1\n",
    "    playlists = sp.user_playlist_create(username, playlist_name)\n",
    "    playlist_id = playlists[\"id\"]\n",
    "    results = sp.user_playlist_add_tracks(username, playlist_id, track_ids)"
   ]
  },
  {
   "cell_type": "code",
   "execution_count": 61,
   "metadata": {},
   "outputs": [],
   "source": [
    "import pickle\n",
    "classifier = None\n",
    "with open('classifier', 'rb') as f:\n",
    "    # The protocol version used is detected automatically, so we do not\n",
    "    # have to specify it.\n",
    "    classifier = pickle.load(f)"
   ]
  },
  {
   "cell_type": "code",
   "execution_count": 63,
   "metadata": {},
   "outputs": [
    {
     "name": "stdout",
     "output_type": "stream",
     "text": [
      "2lAGG4iF7XsuqsG059t27S\n",
      "======\n",
      "['3WFB5CrA5pVu4IDyWM8jHN', '1AhDOtG9vPSOmsWgNW0BEY', '76CEXcx0OHPbq2cyiwjEHk', '6ICZQc8fr18dK37RN6R2YL', '771OYKR5EyyxaWGaZtCiGx', '78kk9wiapWNaTcA9Kzvhb0', '6E94HFcoPa1lOV0JCaul6v', '0LBua0mRC37pQzTVVUk3lB', '6cruljKBtHzEoydZd2lB0S', '2LricmvjlAmMgMYnqyWHRu']\n"
     ]
    }
   ],
   "source": [
    "import random \n",
    "random_track_indices = random.sample(range(len(X)), 10)\n",
    "NUMBER_OF_PLAYLIST_GENERATED = 1\n",
    "#random_track_indices = random.sample(range(audio_features.shape[0]), NUMBER_OF_PLAYLIST_GENERATED)\n",
    "random_track_indices = [208]\n",
    "test_input = audio_feature_df.as_matrix()[random_track_indices]\n",
    "nones = np.zeros((test_input.shape[0], X.shape[1]-len(feature_list)+1))\n",
    "test_input = np.append(nones, test_input[:,1:], axis=1)\n",
    "genres = classifier.predict(test_input)\n",
    "genres = [x/np.max(genres) for x in genres]\n",
    "audio_copy = audio_feature_df.copy()\n",
    "for ind, genre in zip(random_track_indices, genres):\n",
    "    audio_copy.iloc[ind][0] = genre\n",
    "test_input = audio_copy.as_matrix()[random_track_indices]\n",
    "cluster_numbers = kmeans_user.predict(test_input)\n",
    "for i, (cluster_number, random_track_ind) in enumerate(zip(cluster_numbers, random_track_indices)):\n",
    "    index = kmeans_user.labels_ == cluster_number\n",
    "    indices = [ind for ind, value in zip(range(0, len(labels)), index) if value == True]\n",
    "    d = ([weighted_norm(audio_copy.iloc[ind], test_input[i]) for ind in indices])\n",
    "    ind = np.argsort(d)[::-1][:10]\n",
    "    indices = [indices[x] for x in ind]\n",
    "    print(user_saved_tracks_df.iloc[random_track_ind][\"id\"])\n",
    "    print ('======')\n",
    "    track_ids = user_saved_tracks_df.iloc[indices][\"id\"].values.tolist()\n",
    "    sp.trace = False\n",
    "    print(track_ids)\n",
    "    playlist_name = \"automatic-generated-playlist-\" + str(PLAYLIST_NO)\n",
    "    PLAYLIST_NO += 1\n",
    "    playlists = sp.user_playlist_create(username, playlist_name)\n",
    "    playlist_id = playlists[\"id\"]\n",
    "    results = sp.user_playlist_add_tracks(username, playlist_id, track_ids)"
   ]
  }
 ],
 "metadata": {
  "kernelspec": {
   "display_name": "Python 3",
   "language": "python",
   "name": "python3"
  }
 },
 "nbformat": 4,
 "nbformat_minor": 2
}
