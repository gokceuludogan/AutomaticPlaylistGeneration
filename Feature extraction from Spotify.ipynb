{
 "cells": [
  {
   "cell_type": "markdown",
   "metadata": {},
   "source": [
    "# Feature Extraction from Spotify\n",
    "\n",
    "In this notebook, we are going to get audio features of tracks on MSD genre dataset and merge with these features with those we extracted before. "
   ]
  },
  {
   "cell_type": "code",
   "execution_count": 18,
   "metadata": {},
   "outputs": [],
   "source": [
    "import spotipy\n",
    "import requests\n",
    "import spotipy.util as util\n",
    "import pprint, json"
   ]
  },
  {
   "cell_type": "markdown",
   "metadata": {},
   "source": [
    "Environment variables for getting token is defined as below:"
   ]
  },
  {
   "cell_type": "code",
   "execution_count": 16,
   "metadata": {},
   "outputs": [],
   "source": [
    "CLIENT_ID = '25e3cc7f42ad41d3b0a394e0658ec33a'\n",
    "CLIENT_SECRET = '5ab7fd87ffb8417d8ce83cbfde8283ad'\n",
    "scope = 'user-library-read playlist-modify user-read-private'"
   ]
  },
  {
   "cell_type": "markdown",
   "metadata": {},
   "source": [
    "## Getting authorization token"
   ]
  },
  {
   "cell_type": "code",
   "execution_count": 14,
   "metadata": {},
   "outputs": [],
   "source": [
    "def get_token(username, scope, client_id, client_secret):\n",
    "    return util.prompt_for_user_token(username, scope, client_id, client_secret, redirect_uri='http://localhost/')"
   ]
  },
  {
   "cell_type": "markdown",
   "metadata": {},
   "source": [
    "## Searching for track with name and its artist"
   ]
  },
  {
   "cell_type": "code",
   "execution_count": 112,
   "metadata": {},
   "outputs": [],
   "source": [
    "def get_track_id_by_name_and_artist(token, track_name, artist_name):\n",
    "    response = requests.get('https://api.spotify.com/v1/search',\n",
    "                    headers={ 'authorization': \"Bearer \" + token}, \n",
    "                    params={ 'q': 'track:' + track_name +  ' artist:' + artist_name, 'type': 'track' })\n",
    "    if response.ok == False:\n",
    "        return -2        \n",
    "    tracks = json.loads(response.text)[\"tracks\"]\n",
    "    if tracks[\"total\"] == 0:\n",
    "        return -1\n",
    "    return tracks[\"items\"][0][\"id\"]"
   ]
  },
  {
   "cell_type": "markdown",
   "metadata": {},
   "source": [
    "## Getting audio features of tracks"
   ]
  },
  {
   "cell_type": "code",
   "execution_count": 9,
   "metadata": {},
   "outputs": [],
   "source": [
    "def get_audio_features(sp, track_id_list):\n",
    "\treturn sp.audio_features(tracks=track_id_list)"
   ]
  },
  {
   "cell_type": "markdown",
   "metadata": {},
   "source": [
    "Since we have created functions we need, we are ready to go! Let's get a token."
   ]
  },
  {
   "cell_type": "code",
   "execution_count": 117,
   "metadata": {},
   "outputs": [],
   "source": [
    "username = '11131118133'\n",
    "token = get_token(username, scope, CLIENT_ID, CLIENT_SECRET)\n",
    "sp = spotipy.Spotify(auth=token)"
   ]
  },
  {
   "cell_type": "markdown",
   "metadata": {},
   "source": [
    "## Getting other features"
   ]
  },
  {
   "cell_type": "markdown",
   "metadata": {},
   "source": [
    "Let's import necessary packages and define features we want to take from Spotify. We're gonna get the audio features from spotify with track id."
   ]
  },
  {
   "cell_type": "code",
   "execution_count": 96,
   "metadata": {},
   "outputs": [
    {
     "name": "stdout",
     "output_type": "stream",
     "text": [
      "Size of feature list:  13\n"
     ]
    }
   ],
   "source": [
    "import pandas as pd\n",
    "import numpy as np\n",
    "\n",
    "feature_list = [\"track_id_msd\", \"danceability\", \"energy\", \"key\", \"loudness\", \"mode\", \"speechiness\", \"acousticness\", \"instrumentalness\", \"liveness\", \"valence\", \"tempo\", \"id\"]\n",
    "print(\"Size of feature list: \", str(len(feature_list)))"
   ]
  },
  {
   "cell_type": "markdown",
   "metadata": {},
   "source": [
    "Let's take audio features of tracks of our dataset."
   ]
  },
  {
   "cell_type": "code",
   "execution_count": 103,
   "metadata": {},
   "outputs": [],
   "source": [
    "features = pd.read_csv('../msd_extra_features.csv')\n",
    "size_of_audio_features = len(feature_list)\n",
    "\n",
    "    "
   ]
  },
  {
   "cell_type": "code",
   "execution_count": 98,
   "metadata": {},
   "outputs": [
    {
     "data": {
      "text/plain": [
       "Index(['Unnamed: 0', 'genre', 'track_id', 'artist_name', 'title', 'loudness',\n",
       "       'tempo', 'time_signature', 'key', 'mode', 'duration', 'avg_timbre1',\n",
       "       'avg_timbre2', 'avg_timbre3', 'avg_timbre4', 'avg_timbre5',\n",
       "       'avg_timbre6', 'avg_timbre7', 'avg_timbre8', 'avg_timbre9',\n",
       "       'avg_timbre10', 'avg_timbre11', 'avg_timbre12', 'var_timbre1',\n",
       "       'var_timbre2', 'var_timbre3', 'var_timbre4', 'var_timbre5',\n",
       "       'var_timbre6', 'var_timbre7', 'var_timbre8', 'var_timbre9',\n",
       "       'var_timbre10', 'var_timbre11', 'var_timbre12', '0', '1', '2', '3', '4',\n",
       "       '5', '6', '7', '8', '9'],\n",
       "      dtype='object')"
      ]
     },
     "execution_count": 98,
     "metadata": {},
     "output_type": "execute_result"
    }
   ],
   "source": [
    "features.columns"
   ]
  },
  {
   "cell_type": "code",
   "execution_count": 118,
   "metadata": {},
   "outputs": [
    {
     "name": "stdout",
     "output_type": "stream",
     "text": [
      "Index\t15197\tTrack\tFunk Factory (Remastered Single  Version)\tArtist\tWilson Pickett\n",
      "Index\t15198\tTrack\tIn The Midnight Hour\tArtist\tWilson Pickett\n",
      "Index\t15199\tTrack\tI Found A True Love (LP Version)\tArtist\tWilson Pickett\n",
      "Track not found I Found A True Love (LP Version)\tWilson Pickett\n",
      "Index\t15200\tTrack\tI'm A Midnight Mover (LP Version)\tArtist\tWilson Pickett\n",
      "Track not found I'm A Midnight Mover (LP Version)\tWilson Pickett\n",
      "Index\t15201\tTrack\tEverybody Needs Somebody To Love (LP Version)\tArtist\tWilson Pickett\n",
      "Track not found Everybody Needs Somebody To Love (LP Version)\tWilson Pickett\n",
      "Index\t15202\tTrack\tKnock On Wood (LP Version)\tArtist\tWilson Pickett\n",
      "Track not found Knock On Wood (LP Version)\tWilson Pickett\n",
      "Index\t15203\tTrack\tOoh Poo Pah Doo (LP Version)\tArtist\tWilson Pickett\n",
      "Track not found Ooh Poo Pah Doo (LP Version)\tWilson Pickett\n",
      "Index\t15204\tTrack\tIt's Too Late (LP Version)\tArtist\tWilson Pickett\n",
      "Track not found It's Too Late (LP Version)\tWilson Pickett\n",
      "Index\t15205\tTrack\tShe's Lookin' Good (LP Version)\tArtist\tWilson Pickett\n",
      "Track not found She's Lookin' Good (LP Version)\tWilson Pickett\n",
      "Index\t15206\tTrack\tIf You Need Me (LP Version)\tArtist\tWilson Pickett\n",
      "Track not found If You Need Me (LP Version)\tWilson Pickett\n",
      "Index\t15207\tTrack\t(Your Love Has Brought Me) A Mighty Long Way (LP Version)\tArtist\tWilson Pickett\n",
      "Track not found (Your Love Has Brought Me) A Mighty Long Way (LP Version)\tWilson Pickett\n",
      "Index\t15208\tTrack\tYou Can't Stand Alone (LP Version)\tArtist\tWilson Pickett\n",
      "Track not found You Can't Stand Alone (LP Version)\tWilson Pickett\n",
      "Index\t15209\tTrack\tStagger Lee (LP Version)\tArtist\tWilson Pickett\n",
      "Track not found Stagger Lee (LP Version)\tWilson Pickett\n",
      "Index\t15210\tTrack\tDon't Knock My Love - Part 1 (LP Version)\tArtist\tWilson Pickett\n",
      "Track not found Don't Knock My Love - Part 1 (LP Version)\tWilson Pickett\n",
      "Index\t15211\tTrack\tThat's A Man's Way (LP Version)\tArtist\tWilson Pickett\n",
      "Track not found That's A Man's Way (LP Version)\tWilson Pickett\n",
      "Index\t15212\tTrack\tSoul Dance Number Three (LP Version)\tArtist\tWilson Pickett\n",
      "Track not found Soul Dance Number Three (LP Version)\tWilson Pickett\n",
      "Index\t15213\tTrack\tOccupation\tArtist\tThe Skatalites\n",
      "Index\t15214\tTrack\tFreedom Sound Outro\tArtist\tThe Skatalites\n",
      "Track not found Freedom Sound Outro\tThe Skatalites\n",
      "Index\t15215\tTrack\tConfucius\tArtist\tThe Skatalites\n",
      "Index\t15216\tTrack\tMood For Ska\tArtist\tThe Skatalites\n",
      "Index\t15217\tTrack\tFreedom Sounds\tArtist\tThe Skatalites\n",
      "Index\t15218\tTrack\tFor the love Of you\tArtist\tHil Street Soul\n",
      "Track not found For the love Of you\tHil Street Soul\n",
      "Index\t15219\tTrack\tIt's Ok\tArtist\tHil St Soul\n",
      "Index\t15220\tTrack\tDrama\tArtist\tErykah Badu\n",
      "Index\t15221\tTrack\tAppletree\tArtist\tErykah Badu\n",
      "Index\t15222\tTrack\tOn & On\tArtist\tErykah Badu\n",
      "Index\t15223\tTrack\t4 Leaf Clover\tArtist\tErykah Badu\n",
      "Index\t15224\tTrack\tCertainly\tArtist\tErykah Badu\n",
      "Index\t15225\tTrack\tTyrone\tArtist\tErykah Badu\n",
      "Index\t15226\tTrack\tGame Over\tArtist\tErikah\n",
      "Index\t15227\tTrack\tHoney\tArtist\tErykah Badu\n",
      "Index\t15228\tTrack\tNext Lifetime (Interlude)\tArtist\tErykah Badu\n",
      "Index\t15229\tTrack\tRimshot (Intro)\tArtist\tErykah Badu\n",
      "Index\t15230\tTrack\tYe Yo\tArtist\tErykah Badu\n",
      "Index\t15231\tTrack\tReprise\tArtist\tErykah Badu\n",
      "Index\t15232\tTrack\tApple Tree\tArtist\tErykah Badu\n",
      "Index\t15233\tTrack\tNext Lifetime\tArtist\tErykah Badu\n",
      "Index\t15234\tTrack\tA.D. 2000\tArtist\tErykah Badu\n",
      "Index\t15235\tTrack\tThat Hump\tArtist\tErykah Badu\n",
      "Index\t15236\tTrack\tMe\tArtist\tErykah Badu\n",
      "Index\t15237\tTrack\tTwinkle\tArtist\tErykah Badu\n",
      "Index\t15238\tTrack\tThe Cell\tArtist\tErykah Badu\n",
      "Index\t15239\tTrack\tMy People\tArtist\tErykah Badu\n",
      "Index\t15240\tTrack\t20 Feet Tall\tArtist\tErykah Badu\n",
      "Index\t15241\tTrack\tUmm Hmm\tArtist\tErykah Badu\n",
      "Index\t15242\tTrack\tWindow Seat\tArtist\tErykah Badu\n",
      "Index\t15243\tTrack\tBack In The Day\tArtist\tErykah Badu\n",
      "Index\t15244\tTrack\tDanger\tArtist\tErykah Badu\n",
      "Index\t15245\tTrack\tHollywood\tArtist\tErykah Badu\n",
      "Track not found Hollywood\tErykah Badu\n",
      "Index\t15246\tTrack\tThink Twice\tArtist\tErykah Badu\n",
      "Index\t15247\tTrack\tI Want You\tArtist\tErykah Badu\n",
      "17\n"
     ]
    }
   ],
   "source": [
    "#audio_features = np.array(feature_list)\n",
    "not_found = 0\n",
    "for index, row in features.iterrows():\n",
    "    if index > 15196:\n",
    "        if index % 1000 == 0:\n",
    "            token = get_token(username, scope, CLIENT_ID, CLIENT_SECRET)\n",
    "            sp = spotipy.Spotify(auth=token)\n",
    "            print(\"Not found:\" + str(not_found))\n",
    "        track_id_msd = row.track_id\n",
    "        track_name = row.title\n",
    "        artist_name = row.artist_name\n",
    "        print(\"Index\\t\" + str(index) + \"\\tTrack\\t\" + track_name + \"\\tArtist\\t\" + artist_name)\n",
    "        track_id = get_track_id_by_name_and_artist(token, track_name, artist_name)\n",
    "        if track_id == -2:\n",
    "            token = get_token(username, scope, CLIENT_ID, CLIENT_SECRET)\n",
    "            track_id = get_track_id_by_name_and_artist(token, track_name, artist_name)\n",
    "        if track_id != -1:\n",
    "            features_in_json = get_audio_features(sp, [track_id])\n",
    "            track_feature = [value for key, value in features_in_json[0].items()  if key in feature_list[1:]]\n",
    "            audio_features = np.vstack([audio_features, [track_id_msd] +track_feature])\n",
    "        else: \n",
    "            print(\"Track not found \"+ track_name + \"\\t\" +artist_name)\n",
    "            not_found += 1\n",
    "         \n",
    "\n",
    "        \n",
    "print(not_found)  \n"
   ]
  },
  {
   "cell_type": "code",
   "execution_count": 148,
   "metadata": {
    "scrolled": true
   },
   "outputs": [],
   "source": [
    "#audio_features_frame = pd.DataFrame(data = audio_features[1:, 0:], columns=audio_features[0,0:])\n",
    "\n",
    "audio_features_frame.rename(index=str, columns={\"track_id_msd\": \"track_id\"})\n",
    "audio_features_frame.to_csv(\"audio_features.csv\")\n"
   ]
  },
  {
   "cell_type": "code",
   "execution_count": null,
   "metadata": {},
   "outputs": [],
   "source": [
    "pd.merge"
   ]
  },
  {
   "cell_type": "code",
   "execution_count": 144,
   "metadata": {
    "scrolled": true
   },
   "outputs": [],
   "source": [
    "audio_features = pd.read_csv('audio_features_2.csv', sep=\",\")\n",
    "audio_features.set_index(\"track_id_msd\")\n",
    "audio_features.drop([\"index\"],1, inplace = True)\n",
    "audio_features.to_csv(\"audio_features_v3.csv\")"
   ]
  }
 ],
 "metadata": {
  "kernelspec": {
   "display_name": "Python 3",
   "language": "python",
   "name": "python3"
  },
  "language_info": {
   "codemirror_mode": {
    "name": "ipython",
    "version": 3
   },
   "file_extension": ".py",
   "mimetype": "text/x-python",
   "name": "python",
   "nbconvert_exporter": "python",
   "pygments_lexer": "ipython3",
   "version": "3.6.3"
  }
 },
 "nbformat": 4,
 "nbformat_minor": 2
}
