{
 "cells": [
  {
   "cell_type": "markdown",
   "metadata": {},
   "source": [
    "# Feature Extraction from Spotify\n",
    "\n",
    "In this notebook, we are going to get audio features of tracks on MSD genre dataset and merge with these features with those we extracted before. "
   ]
  },
  {
   "cell_type": "code",
   "execution_count": 1,
   "metadata": {},
   "outputs": [],
   "source": [
    "import spotipy\n",
    "import requests\n",
    "import spotipy.util as util\n",
    "import pprint, json"
   ]
  },
  {
   "cell_type": "markdown",
   "metadata": {},
   "source": [
    "Environment variables for getting token is defined as below:"
   ]
  },
  {
   "cell_type": "code",
   "execution_count": 2,
   "metadata": {},
   "outputs": [],
   "source": [
    "CLIENT_ID = '25e3cc7f42ad41d3b0a394e0658ec33a'\n",
    "CLIENT_SECRET = '5ab7fd87ffb8417d8ce83cbfde8283ad'\n",
    "scope = 'user-library-read playlist-modify user-read-private'"
   ]
  },
  {
   "cell_type": "markdown",
   "metadata": {},
   "source": [
    "## Getting authorization token"
   ]
  },
  {
   "cell_type": "code",
   "execution_count": 3,
   "metadata": {},
   "outputs": [],
   "source": [
    "def get_token(username, scope, client_id, client_secret):\n",
    "    return util.prompt_for_user_token(username, scope, client_id, client_secret, redirect_uri='http://localhost/')"
   ]
  },
  {
   "cell_type": "markdown",
   "metadata": {},
   "source": [
    "## Searching for track with name and its artist"
   ]
  },
  {
   "cell_type": "code",
   "execution_count": 4,
   "metadata": {},
   "outputs": [],
   "source": [
    "def get_track_id_by_name_and_artist(token, track_name, artist_name):\n",
    "\tresponse = requests.get('https://api.spotify.com/v1/search',\n",
    "    \t\t\t\theaders={ 'authorization': \"Bearer \" + token}, \n",
    "    \t\t\t\tparams={ 'q': 'track:' + track_name +  ' artist:' + artist_name, 'type': 'track' })\n",
    "\treturn json.loads(response.text)[\"tracks\"][\"items\"][0][\"id\"]"
   ]
  },
  {
   "cell_type": "markdown",
   "metadata": {},
   "source": [
    "## Getting audio features of tracks"
   ]
  },
  {
   "cell_type": "code",
   "execution_count": 5,
   "metadata": {},
   "outputs": [],
   "source": [
    "def get_audio_features(sp, track_id_list):\n",
    "\treturn sp.audio_features(tracks=track_id_list)"
   ]
  },
  {
   "cell_type": "markdown",
   "metadata": {},
   "source": [
    "Since we have created functions we need, we are ready to go! Let's get a token."
   ]
  },
  {
   "cell_type": "code",
   "execution_count": 6,
   "metadata": {},
   "outputs": [],
   "source": [
    "username = '11131118133'\n",
    "token = get_token(username, scope, CLIENT_ID, CLIENT_SECRET)\n",
    "sp = spotipy.Spotify(auth=token)"
   ]
  },
  {
   "cell_type": "code",
   "execution_count": null,
   "metadata": {},
   "outputs": [],
   "source": []
  }
 ],
 "metadata": {
  "kernelspec": {
   "display_name": "Python 3",
   "language": "python",
   "name": "python3"
  },
  "language_info": {
   "codemirror_mode": {
    "name": "ipython",
    "version": 3
   },
   "file_extension": ".py",
   "mimetype": "text/x-python",
   "name": "python",
   "nbconvert_exporter": "python",
   "pygments_lexer": "ipython3",
   "version": "3.6.3"
  }
 },
 "nbformat": 4,
 "nbformat_minor": 2
}
